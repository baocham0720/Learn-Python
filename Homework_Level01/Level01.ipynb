{
 "cells": [
  {
   "cell_type": "markdown",
   "id": "ec597da8-66f6-427a-ab9b-d783bbbf2c21",
   "metadata": {},
   "source": [
    "Bài 1:\n",
    "Viết chương trình tìm tất cả các số chia hết cho 7 nhưng không phải bội số của 5, nằm trong đoạn 2000 và 3200 (tính cả 2000 và 3200). Các số thu được sẽ được in thành chuỗi trên một dòng, cách nhau bằng dấu phẩy."
   ]
  },
  {
   "cell_type": "code",
   "execution_count": 5,
   "id": "9216f835-4e08-4df1-a930-cdf568e67431",
   "metadata": {},
   "outputs": [
    {
     "name": "stdout",
     "output_type": "stream",
     "text": [
      "2002,2009,2016,2023,2037,2044,2051,2058,2072,2079,2086,2093,2107,2114,2121,2128,2142,2149,2156,2163,2177,2184,2191,2198,2212,2219,2226,2233,2247,2254,2261,2268,2282,2289,2296,2303,2317,2324,2331,2338,2352,2359,2366,2373,2387,2394,2401,2408,2422,2429,2436,2443,2457,2464,2471,2478,2492,2499,2506,2513,2527,2534,2541,2548,2562,2569,2576,2583,2597,2604,2611,2618,2632,2639,2646,2653,2667,2674,2681,2688,2702,2709,2716,2723,2737,2744,2751,2758,2772,2779,2786,2793,2807,2814,2821,2828,2842,2849,2856,2863,2877,2884,2891,2898,2912,2919,2926,2933,2947,2954,2961,2968,2982,2989,2996,3003,3017,3024,3031,3038,3052,3059,3066,3073,3087,3094,3101,3108,3122,3129,3136,3143,3157,3164,3171,3178,3192,3199\n"
     ]
    }
   ],
   "source": [
    "j=[] #Tạo một danh sách rỗng để lưu kết quả\n",
    "for i in range(2000, 3201): #Duyệt qua tất cả các số trong đoạn từ 2000 đến 3200\n",
    "    if (i%7==0) and (i%5!=0): #Kiểm tra xem số i có chia hết cho 7 và không phải là bội số của 5 không\n",
    "        j.append(str(i)) #Nếu đúng, thì thêm số i vào danh sách result\n",
    "print (','.join(j)) #In ra màn hình danh sách result, các phần tử cách nhau bằng dấu phẩy"
   ]
  },
  {
   "cell_type": "markdown",
   "id": "5f650321-8f6c-42aa-9c82-3b23aa4d6d18",
   "metadata": {},
   "source": [
    "Bài 2: \n",
    "Viết một chương trình có thể tính giai thừa của một số cho trước. Kết quả được in thành chuỗi trên một dòng, phân tách bởi dấu phẩy. Ví dụ, số cho trước là 8 thì kết quả đầu ra phải là 40320."
   ]
  },
  {
   "cell_type": "code",
   "execution_count": 6,
   "id": "b8dbea36-dbec-47cf-9839-65e7be379101",
   "metadata": {},
   "outputs": [
    {
     "name": "stdin",
     "output_type": "stream",
     "text": [
      "Nhập số cần tính giai thừa:  10\n"
     ]
    },
    {
     "name": "stdout",
     "output_type": "stream",
     "text": [
      "3628800\n"
     ]
    }
   ],
   "source": [
    "x = int(input(\"Nhập số cần tính giai thừa: \"))\n",
    "def fact(x):\n",
    "    if x == 0:\n",
    "        return 1\n",
    "    return x * fact(x-1)\n",
    "print(fact(x))"
   ]
  },
  {
   "cell_type": "markdown",
   "id": "4b44dffb-6202-4567-bf3f-5b2e85f5192c",
   "metadata": {},
   "source": [
    "Bài 3: Với số nguyên n nhất định, hãy viết chương trình để tạo ra một dictionary chứa (i, i*i) như là số nguyên từ 1 đến n (bao gồm cả 1 và n) sau đó in ra dictionary này."
   ]
  },
  {
   "cell_type": "code",
   "execution_count": 8,
   "id": "7c4764fd-68d6-4329-87ea-f1be35790ecd",
   "metadata": {},
   "outputs": [
    {
     "name": "stdin",
     "output_type": "stream",
     "text": [
      "Nhập vào số:  10\n"
     ]
    },
    {
     "name": "stdout",
     "output_type": "stream",
     "text": [
      "{1: 1, 2: 4, 3: 9, 4: 16, 5: 25, 6: 36, 7: 49, 8: 64, 9: 81, 10: 100}\n"
     ]
    }
   ],
   "source": [
    "n = int(input(\"Nhập vào số: \"))\n",
    "d = dict()\n",
    "for i in range(1, n+1):\n",
    "    d[i]= i*i\n",
    "print(d)"
   ]
  },
  {
   "cell_type": "markdown",
   "id": "978bc79a-7627-4038-a507-83922d810509",
   "metadata": {},
   "source": [
    "Bài 4: Viết chương trình chấp nhận một chuỗi số, phân tách bằng dấu phẩy từ giao diện điều khiển, tạo ra một danh sách và một tuple chứa mọi số."
   ]
  },
  {
   "cell_type": "code",
   "execution_count": 16,
   "id": "00c5032a-884f-45bb-8aff-932da8802f64",
   "metadata": {},
   "outputs": [
    {
     "name": "stdin",
     "output_type": "stream",
     "text": [
      "Nhập vào các giá trị:  34,74,84,39,32\n"
     ]
    },
    {
     "name": "stdout",
     "output_type": "stream",
     "text": [
      "['34', '74', '84', '39', '32']\n",
      "('34', '74', '84', '39', '32')\n"
     ]
    }
   ],
   "source": [
    "values = input(\"Nhập vào các giá trị: \")\n",
    "l = values.split(\",\")\n",
    "t = tuple(l)\n",
    "print(l)\n",
    "print(t)"
   ]
  },
  {
   "cell_type": "markdown",
   "id": "689d5c17-b6ed-4522-940b-01273e7aa9f8",
   "metadata": {},
   "source": [
    "Bài 5: Định nghĩa một class có ít nhất 2 method:\n",
    "\n",
    "getString: để nhận một chuỗi do người dùng nhập vào từ giao diện điều khiển. printString: in chuỗi vừa nhập sang chữ hoa. Thêm vào các hàm kiểm tra đơn giản để kiểm tra method của class"
   ]
  },
  {
   "cell_type": "code",
   "execution_count": 10,
   "id": "f4df142c-3a35-49e8-ac6c-c93862ec91ac",
   "metadata": {},
   "outputs": [
    {
     "name": "stdin",
     "output_type": "stream",
     "text": [
      "Nhập chuỗi:  quantrimang.com\n"
     ]
    },
    {
     "name": "stdout",
     "output_type": "stream",
     "text": [
      "QUANTRIMANG.COM\n"
     ]
    }
   ],
   "source": [
    "class InputOutString(object):\n",
    "    def __int__(self):\n",
    "        self.s = \"\"\n",
    "    def getString(self):\n",
    "        self.s = input(\"Nhập chuỗi: \")\n",
    "    def printString(self):\n",
    "        print(self.s.upper())\n",
    "strObj = InputOutString()\n",
    "strObj.getString()\n",
    "strObj.printString()"
   ]
  },
  {
   "cell_type": "markdown",
   "id": "d0a85468-1017-4931-bf8d-891894b1ca29",
   "metadata": {},
   "source": [
    "Bài 6: Viết một method tính giá trị bình phương của một số"
   ]
  },
  {
   "cell_type": "code",
   "execution_count": 17,
   "id": "467f1f91-64db-4d6c-9e6a-a49799e27951",
   "metadata": {},
   "outputs": [
    {
     "name": "stdin",
     "output_type": "stream",
     "text": [
      "Nhập một số: 10\n"
     ]
    },
    {
     "name": "stdout",
     "output_type": "stream",
     "text": [
      "4\n",
      "9\n",
      "100\n"
     ]
    }
   ],
   "source": [
    "x=int(input(\"Nhập một số:\")) #nhập số cần tính bình phương từ giao diện\n",
    "def square(num):  #định nghĩa bình phương của một số\n",
    "  return num ** 2\n",
    "# Code by Quantrimang.com\n",
    "print (square(2)) #in bình phương của 2\n",
    "print (square(3)) #in bình phương của 3\n",
    "print (square(x)) #in bình phương của x"
   ]
  },
  {
   "cell_type": "markdown",
   "id": "c58cfab8-c1bf-45b3-8fb6-a038d69e28dd",
   "metadata": {},
   "source": [
    "Bài 7: \n",
    "Python có nhiều hàm được tích hợp sẵn, nếu không biết cách sử dụng nó, bạn có thể đọc tài liệu trực tuyến hoặc tìm vài cuốn sách. Nhưng Python cũng có sẵn tài liệu về hàm cho mọi hàm tích hợp trong Python. Yêu cầu của bài tập này là viết một chương trình để in tài liệu về một số hàm Python được tích hợp sẵn như abs(), int(), input() và thêm tài liệu cho hàm bạn tự định nghĩa."
   ]
  },
  {
   "cell_type": "code",
   "execution_count": 13,
   "id": "449a67b3-7ac9-4ac8-a3e0-84727891876c",
   "metadata": {},
   "outputs": [
    {
     "name": "stdout",
     "output_type": "stream",
     "text": [
      "Return the absolute value of the argument.\n",
      "int([x]) -> integer\n",
      "int(x, base=10) -> integer\n",
      "\n",
      "Convert a number or string to an integer, or return 0 if no arguments\n",
      "are given.  If x is a number, return x.__int__().  For floating point\n",
      "numbers, this truncates towards zero.\n",
      "\n",
      "If x is not a number or if base is given, then x must be a string,\n",
      "bytes, or bytearray instance representing an integer literal in the\n",
      "given base.  The literal can be preceded by '+' or '-' and be surrounded\n",
      "by whitespace.  The base defaults to 10.  Valid bases are 0 and 2-36.\n",
      "Base 0 means to interpret the base from the string as an integer literal.\n",
      ">>> int('0b100', base=0)\n",
      "4\n",
      "Forward raw_input to frontends\n",
      "\n",
      "        Raises\n",
      "        ------\n",
      "        StdinNotImplementedError if active frontend doesn't support stdin.\n",
      "        \n",
      "\n",
      "    Trả về giá trị bình thường của số được nhập vào.\n",
      "\n",
      "    Số nhập phải là số nguyên\n",
      "    \n"
     ]
    }
   ],
   "source": [
    "print(abs.__doc__)\n",
    "print(int.__doc__)\n",
    "print(input.__doc__)\n",
    "def square(num):\n",
    "    '''\n",
    "    Trả về giá trị bình thường của số được nhập vào.\n",
    "\n",
    "    Số nhập phải là số nguyên\n",
    "    '''\n",
    "    return num ** 2\n",
    "print(square.__doc__)"
   ]
  },
  {
   "cell_type": "markdown",
   "id": "130909ba-dee6-4b87-9d98-3b1bb0594c1f",
   "metadata": {},
   "source": [
    "Bài 8: Định nghĩa một lớp gồm có tham số lớp và có cùng tham số instance"
   ]
  },
  {
   "cell_type": "code",
   "execution_count": 22,
   "id": "012d70c2-121c-4145-9f06-d08d5d8db1fe",
   "metadata": {},
   "outputs": [
    {
     "name": "stdout",
     "output_type": "stream",
     "text": [
      "Person name is Jeffrey\n",
      "Person name is Nico\n"
     ]
    }
   ],
   "source": [
    "class Person:\n",
    " # Định nghĩa lớp \"name\"\n",
    "    name = \"Person\"\n",
    " # Code by Quantrimang.com\n",
    "    def __init__(self, name = None):\n",
    " # self.name là biến instance\n",
    "        self.name = name\n",
    "\n",
    "jeffrey = Person(\"Jeffrey\")\n",
    "print (\"%s name is %s\" % (Person.name, jeffrey.name))\n",
    "\n",
    "nico = Person()\n",
    "nico.name = \"Nico\"\n",
    "print (\"%s name is %s\" % (Person.name, nico.name))"
   ]
  },
  {
   "cell_type": "markdown",
   "id": "c14c474c-55ea-41ff-85e1-b51f127d290e",
   "metadata": {},
   "source": [
    "Bài 9: Tính tuổi dựa trên ngày tháng năm sinh nhập vào."
   ]
  },
  {
   "cell_type": "code",
   "execution_count": 23,
   "id": "26b5c660-5bb9-4507-882b-6b34fdfd424c",
   "metadata": {},
   "outputs": [
    {
     "ename": "SyntaxError",
     "evalue": "'(' was never closed (1605254577.py, line 5)",
     "output_type": "error",
     "traceback": [
      "\u001b[0;36m  Cell \u001b[0;32mIn[23], line 5\u001b[0;36m\u001b[0m\n\u001b[0;31m    birth_month = int((input(\"Tháng sinh: \"))\u001b[0m\n\u001b[0m                     ^\u001b[0m\n\u001b[0;31mSyntaxError\u001b[0m\u001b[0;31m:\u001b[0m '(' was never closed\n"
     ]
    }
   ],
   "source": [
    "import datetime\n",
    "\n",
    "print(\"Vui lòng nhập vào ngày tháng năm sinh: \")\n",
    "birth_day = int(input(\"Ngày sinh: \"))\n",
    "birth_month = int((input(\"Tháng sinh: \"))\n",
    "birth_year = int(input(\"Năm sinh: \"))\n",
    "\n",
    "current_year = datetime.date.today().year\n",
    "current_month = datetime.date.today().month\n",
    "current_day = datetime.date.today().\n",
    "\n",
    "age_year = current_year - birth_day\n",
    "age_month = abs(current_month - birth_month)\n",
    "age_day = abs(current_day - birthday)\n",
    "\n",
    "print(\"### Tuổi của bạn là: \", age_year, \"tuổi\", age_month, \"tháng\" và age_day, \"ngày\")"
   ]
  },
  {
   "cell_type": "code",
   "execution_count": 24,
   "id": "7e21732e-a8d0-4fd0-9815-9682ed0d2c9f",
   "metadata": {},
   "outputs": [
    {
     "name": "stdout",
     "output_type": "stream",
     "text": [
      "Mời bạn vui lòng nhập ngày tháng năm sinh để tính tuổi\n"
     ]
    },
    {
     "name": "stdin",
     "output_type": "stream",
     "text": [
      "Ngày sinh: 20\n",
      "Tháng sinh: 07\n",
      "Năm sinh: 1998\n"
     ]
    },
    {
     "name": "stdout",
     "output_type": "stream",
     "text": [
      "### Tuổi của bạn chính xác là:### \n",
      " 26  tuổi  3  tháng và  8  ngày\n"
     ]
    }
   ],
   "source": [
    "import datetime\n",
    "\n",
    "print(\"Mời bạn vui lòng nhập ngày tháng năm sinh để tính tuổi\")\n",
    "birth_day = int(input(\"Ngày sinh:\"))\n",
    "birth_month = int(input(\"Tháng sinh:\"))\n",
    "birth_year = int(input(\"Năm sinh:\"))\n",
    "\n",
    "current_year = datetime.date.today().year\n",
    "current_month = datetime.date.today().month\n",
    "current_day = datetime.date.today().day\n",
    "\n",
    "age_year = current_year - birth_year\n",
    "age_month = abs(current_month-birth_month)\n",
    "age_day = abs(current_day-birth_day)\n",
    "\n",
    "print(\"### Tuổi của bạn chính xác là:### \\n\", age_year, \" tuổi \", age_month, \" tháng và \", age_day, \" ngày\")"
   ]
  },
  {
   "cell_type": "markdown",
   "id": "478d7ee2-ddc5-493a-a269-c4dfe67f4b73",
   "metadata": {},
   "source": [
    "Bài 10: \n",
    "Viết chương trình nhập: số giờ làm mỗi tuần, thù lao trên mỗi giờ làm tiêu chuẩn, từ đó tính ra số tiền thực lĩnh của nhân viên. Biết rằng: số giờ tiêu chuẩn mỗi tuần là 44 giờ, và mỗi giờ vượt chuẩn được trả gấp rưỡi so với giờ làm chuẩn."
   ]
  },
  {
   "cell_type": "code",
   "execution_count": 25,
   "id": "75864ef2-c4a8-4d1e-a3a8-9d861ec1e914",
   "metadata": {},
   "outputs": [
    {
     "name": "stdin",
     "output_type": "stream",
     "text": [
      "Nhập số giờ làm mỗi tuần:  40\n",
      "Nhập thù lao trên mỗi giờ làm tiêu chuẩn:  10\n"
     ]
    },
    {
     "name": "stdout",
     "output_type": "stream",
     "text": [
      "Số tiền thực lĩnh của nhân viên: 440.0\n"
     ]
    }
   ],
   "source": [
    "so_gio_lam = float(input(\"Nhập số giờ làm mỗi tuần: \"))\n",
    "luong_gio = float(input(\"Nhập thù lao trên mỗi giờ làm tiêu chuẩn: \"))\n",
    "\n",
    "gio_tieu_chuan = 44  # Số giờ làm chuẩn mỗi tuần\n",
    "gio_vuot_chuan = max(0, so_gio_lam - gio_tieu_chuan)  # Số giờ làm vượt chuẩn mỗi tuần\n",
    "thuc_linh = gio_tieu_chuan * luong_gio + gio_vuot_chuan * luong_gio * 1.5  # Tính tổng thu nhập\n",
    "print(f\"Số tiền thực lĩnh của nhân viên: {thuc_linh}\")"
   ]
  },
  {
   "cell_type": "code",
   "execution_count": null,
   "id": "ab633d9c-e9cb-4745-abcb-8ca479fbd5f0",
   "metadata": {},
   "outputs": [],
   "source": []
  }
 ],
 "metadata": {
  "kernelspec": {
   "display_name": "Python 3 (ipykernel)",
   "language": "python",
   "name": "python3"
  },
  "language_info": {
   "codemirror_mode": {
    "name": "ipython",
    "version": 3
   },
   "file_extension": ".py",
   "mimetype": "text/x-python",
   "name": "python",
   "nbconvert_exporter": "python",
   "pygments_lexer": "ipython3",
   "version": "3.11.7"
  }
 },
 "nbformat": 4,
 "nbformat_minor": 5
}

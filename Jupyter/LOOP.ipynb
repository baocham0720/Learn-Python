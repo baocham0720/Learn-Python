{
 "cells": [
  {
   "cell_type": "markdown",
   "id": "c008dba9-c161-41cc-af2b-723983a18453",
   "metadata": {},
   "source": [
    "Vòng lặp FOR"
   ]
  },
  {
   "cell_type": "code",
   "execution_count": 1,
   "id": "55d43612-39ab-46a6-b681-43fa851d2776",
   "metadata": {},
   "outputs": [
    {
     "name": "stdout",
     "output_type": "stream",
     "text": [
      "0\n",
      "1\n",
      "2\n",
      "3\n",
      "4\n",
      "5\n",
      "6\n",
      "7\n",
      "8\n",
      "9\n"
     ]
    }
   ],
   "source": [
    "#Vòng lặp đi từ 0 đến >n\n",
    "n = 10\n",
    "for i in range(n):\n",
    "    print(i)"
   ]
  },
  {
   "cell_type": "code",
   "execution_count": 2,
   "id": "3c9d926a-92dd-42d4-b763-0385903904ac",
   "metadata": {},
   "outputs": [
    {
     "name": "stdin",
     "output_type": "stream",
     "text": [
      "Nhập vào n:  10\n"
     ]
    },
    {
     "name": "stdout",
     "output_type": "stream",
     "text": [
      "tong = 55\n"
     ]
    }
   ],
   "source": [
    "#Tính tổng từ 0-n\n",
    "n = int(input(\"Nhập vào n: \"))\n",
    "tong = 0\n",
    "for i in range(n+1):\n",
    "    tong+=i\n",
    "print(\"tong =\", tong)"
   ]
  },
  {
   "cell_type": "code",
   "execution_count": 3,
   "id": "c69d49ab-ac0e-43c8-aee6-314d8936ac7a",
   "metadata": {},
   "outputs": [
    {
     "name": "stdout",
     "output_type": "stream",
     "text": [
      "0\n",
      "2\n",
      "4\n",
      "6\n",
      "8\n"
     ]
    }
   ],
   "source": [
    "#Vòng lặp FOR có bước tăng tuỳ chỉnh\n",
    "for i in range(0, 10, 2): #0:xuất phát, 10: chặn trên, 2: tăng đơn vị\n",
    "    print(i)\n",
    "    "
   ]
  },
  {
   "cell_type": "code",
   "execution_count": 4,
   "id": "2c90beee-de55-4cd6-bfdc-e522d19842c5",
   "metadata": {},
   "outputs": [
    {
     "name": "stdout",
     "output_type": "stream",
     "text": [
      "10\n",
      "9\n",
      "8\n",
      "7\n",
      "6\n",
      "5\n",
      "4\n",
      "3\n",
      "2\n",
      "1\n"
     ]
    }
   ],
   "source": [
    "for i in range(10, 0, -1):\n",
    "    print(i)"
   ]
  },
  {
   "cell_type": "code",
   "execution_count": 10,
   "id": "e823bae0-1b3e-4c82-b50a-43df04461eb2",
   "metadata": {},
   "outputs": [
    {
     "name": "stdout",
     "output_type": "stream",
     "text": [
      "red\n",
      "green\n",
      "orange\n"
     ]
    }
   ],
   "source": [
    "colors = [\"red\", \"green\", \"orange\"]\n",
    "\n",
    "#for duyệt các phần tử của list\n",
    "for color in colors:\n",
    "    print(color)"
   ]
  },
  {
   "cell_type": "code",
   "execution_count": 13,
   "id": "820fb9e1-c825-4636-9887-698931b34f25",
   "metadata": {},
   "outputs": [
    {
     "name": "stdout",
     "output_type": "stream",
     "text": [
      "red\n",
      "green\n",
      "orange\n"
     ]
    }
   ],
   "source": [
    "#Vòng lặp for duyệt phần tử theo vị trí\n",
    "\n",
    "for i in range(len(colors)):\n",
    "    print(colors[i])"
   ]
  },
  {
   "cell_type": "markdown",
   "id": "0a7d8ce1-79dc-4d93-bd0a-057abbffb06b",
   "metadata": {},
   "source": [
    "\n",
    "\n",
    "\n",
    "Vòng lặp LỒNG NHAU"
   ]
  },
  {
   "cell_type": "code",
   "execution_count": 14,
   "id": "9fbd45c3-4feb-4c4f-8e26-20b6458406fc",
   "metadata": {},
   "outputs": [
    {
     "name": "stdout",
     "output_type": "stream",
     "text": [
      "2 x 1=2\n",
      "2 x 2=4\n",
      "2 x 3=6\n",
      "2 x 4=8\n",
      "2 x 5=10\n",
      "2 x 6=12\n",
      "2 x 7=14\n",
      "2 x 8=16\n",
      "2 x 9=18\n",
      "2 x 10=20\n"
     ]
    }
   ],
   "source": [
    "#In bảng cửu chương\n",
    "for i in range(1, 11):\n",
    "    print(\"2 x {0}={1}\".format(i, 2*i))"
   ]
  },
  {
   "cell_type": "code",
   "execution_count": 17,
   "id": "45d7ac12-1ee5-449a-82d5-6b8f37ce456a",
   "metadata": {},
   "outputs": [
    {
     "name": "stdout",
     "output_type": "stream",
     "text": [
      "Bảng cửu chương:  2\n",
      "2 x 1 = 2\n",
      "2 x 2 = 4\n",
      "2 x 3 = 6\n",
      "2 x 4 = 8\n",
      "2 x 5 = 10\n",
      "2 x 6 = 12\n",
      "2 x 7 = 14\n",
      "2 x 8 = 16\n",
      "2 x 9 = 18\n",
      "2 x 10 = 20\n",
      "Bảng cửu chương:  3\n",
      "3 x 1 = 3\n",
      "3 x 2 = 6\n",
      "3 x 3 = 9\n",
      "3 x 4 = 12\n",
      "3 x 5 = 15\n",
      "3 x 6 = 18\n",
      "3 x 7 = 21\n",
      "3 x 8 = 24\n",
      "3 x 9 = 27\n",
      "3 x 10 = 30\n",
      "Bảng cửu chương:  4\n",
      "4 x 1 = 4\n",
      "4 x 2 = 8\n",
      "4 x 3 = 12\n",
      "4 x 4 = 16\n",
      "4 x 5 = 20\n",
      "4 x 6 = 24\n",
      "4 x 7 = 28\n",
      "4 x 8 = 32\n",
      "4 x 9 = 36\n",
      "4 x 10 = 40\n",
      "Bảng cửu chương:  5\n",
      "5 x 1 = 5\n",
      "5 x 2 = 10\n",
      "5 x 3 = 15\n",
      "5 x 4 = 20\n",
      "5 x 5 = 25\n",
      "5 x 6 = 30\n",
      "5 x 7 = 35\n",
      "5 x 8 = 40\n",
      "5 x 9 = 45\n",
      "5 x 10 = 50\n",
      "Bảng cửu chương:  6\n",
      "6 x 1 = 6\n",
      "6 x 2 = 12\n",
      "6 x 3 = 18\n",
      "6 x 4 = 24\n",
      "6 x 5 = 30\n",
      "6 x 6 = 36\n",
      "6 x 7 = 42\n",
      "6 x 8 = 48\n",
      "6 x 9 = 54\n",
      "6 x 10 = 60\n",
      "Bảng cửu chương:  7\n",
      "7 x 1 = 7\n",
      "7 x 2 = 14\n",
      "7 x 3 = 21\n",
      "7 x 4 = 28\n",
      "7 x 5 = 35\n",
      "7 x 6 = 42\n",
      "7 x 7 = 49\n",
      "7 x 8 = 56\n",
      "7 x 9 = 63\n",
      "7 x 10 = 70\n",
      "Bảng cửu chương:  8\n",
      "8 x 1 = 8\n",
      "8 x 2 = 16\n",
      "8 x 3 = 24\n",
      "8 x 4 = 32\n",
      "8 x 5 = 40\n",
      "8 x 6 = 48\n",
      "8 x 7 = 56\n",
      "8 x 8 = 64\n",
      "8 x 9 = 72\n",
      "8 x 10 = 80\n",
      "Bảng cửu chương:  9\n",
      "9 x 1 = 9\n",
      "9 x 2 = 18\n",
      "9 x 3 = 27\n",
      "9 x 4 = 36\n",
      "9 x 5 = 45\n",
      "9 x 6 = 54\n",
      "9 x 7 = 63\n",
      "9 x 8 = 72\n",
      "9 x 9 = 81\n",
      "9 x 10 = 90\n"
     ]
    }
   ],
   "source": [
    "#In bảng cửu chương từ 2-9\n",
    "for j in range(2, 10):\n",
    "    print(\"Bảng cửu chương: \",j)\n",
    "    for i in range(1,11):\n",
    "        print(\"{0} x {1} = {2}\".format(j, i, j*i))\n",
    "        "
   ]
  },
  {
   "cell_type": "markdown",
   "id": "dac4ffd5-04ea-4315-b659-48e4a495d87f",
   "metadata": {},
   "source": [
    "Vòng lặp WHILE"
   ]
  },
  {
   "cell_type": "code",
   "execution_count": 18,
   "id": "0bbd2ecd-716f-4c80-8862-4eaa18e945db",
   "metadata": {},
   "outputs": [
    {
     "name": "stdin",
     "output_type": "stream",
     "text": [
      "Nhập vào n:  -10\n",
      "Nhập vào n:  0\n",
      "Nhập vào n:  -8\n",
      "Nhập vào n:  5\n"
     ]
    }
   ],
   "source": [
    "#yêu cầu người dùng nhập vào một con số n>0. Nếu nhập sai yêu cầu nhập lại\n",
    "n = -1\n",
    "while(n<=0):\n",
    "    n = int(input(\"Nhập vào n: \"))  "
   ]
  },
  {
   "cell_type": "code",
   "execution_count": 22,
   "id": "682d71a8-a3ca-4f65-9b4c-70f933244a66",
   "metadata": {},
   "outputs": [
    {
     "name": "stdin",
     "output_type": "stream",
     "text": [
      "Nhập vào n:  10\n"
     ]
    },
    {
     "name": "stdout",
     "output_type": "stream",
     "text": [
      "Tong =  55\n"
     ]
    }
   ],
   "source": [
    "n = -1\n",
    "while(n<=0):\n",
    "    n = int(input(\"Nhập vào n: \")) \n",
    "    \n",
    "i = 0\n",
    "tong = 0\n",
    "while (i<=n):\n",
    "    tong+=i\n",
    "    i+=1\n",
    "print(\"Tong = \", tong)"
   ]
  },
  {
   "cell_type": "code",
   "execution_count": 23,
   "id": "f9b2b425-3ad3-4715-bcac-6fbd41f913a2",
   "metadata": {},
   "outputs": [
    {
     "name": "stdout",
     "output_type": "stream",
     "text": [
      "0 Bên trong vòng lặp\n",
      "1 Bên trong vòng lặp\n",
      "2 Bên trong vòng lặp\n",
      "3 Bên trong vòng lặp\n",
      "4 Bên trong vòng lặp\n",
      "5 Bên trong vòng lặp\n",
      "6 Bên trong vòng lặp\n",
      "7 Bên trong vòng lặp\n",
      "8 Bên trong vòng lặp\n",
      "9 Bên trong vòng lặp\n",
      "10 Bên trong vòng lặp\n",
      "11 Bên ngoài vòng lặp\n"
     ]
    }
   ],
   "source": [
    "#ví dụ:\n",
    "j = 0\n",
    "while (j<=10):\n",
    "    print(j, \"Bên trong vòng lặp\")\n",
    "    j+=1\n",
    "else:\n",
    "    print(j, \"Bên ngoài vòng lặp\")"
   ]
  },
  {
   "cell_type": "code",
   "execution_count": 25,
   "id": "27781693-3b55-4fbc-b224-4e312fad6a62",
   "metadata": {},
   "outputs": [
    {
     "name": "stdout",
     "output_type": "stream",
     "text": [
      "0 Bên trong vòng lặp\n",
      "1 Bên trong vòng lặp\n",
      "2 Bên trong vòng lặp\n",
      "3 Bên trong vòng lặp\n",
      "4 Bên trong vòng lặp\n"
     ]
    }
   ],
   "source": [
    "#ví dụ khi có break:\n",
    "j = 0\n",
    "while (j<=10):\n",
    "    print(j, \"Bên trong vòng lặp\")\n",
    "    j+=1\n",
    "    if(j>=5):\n",
    "        break\n",
    "else:\n",
    "    print(j, \"Bên ngoài vòng lặp\")"
   ]
  },
  {
   "cell_type": "code",
   "execution_count": null,
   "id": "4e0ceaa7-b0fa-4167-b7d9-0a938aff303f",
   "metadata": {},
   "outputs": [],
   "source": []
  }
 ],
 "metadata": {
  "kernelspec": {
   "display_name": "Python 3 (ipykernel)",
   "language": "python",
   "name": "python3"
  },
  "language_info": {
   "codemirror_mode": {
    "name": "ipython",
    "version": 3
   },
   "file_extension": ".py",
   "mimetype": "text/x-python",
   "name": "python",
   "nbconvert_exporter": "python",
   "pygments_lexer": "ipython3",
   "version": "3.11.7"
  }
 },
 "nbformat": 4,
 "nbformat_minor": 5
}

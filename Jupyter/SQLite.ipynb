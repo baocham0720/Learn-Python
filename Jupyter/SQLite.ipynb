{
 "cells": [
  {
   "cell_type": "markdown",
   "id": "d4265222-eee2-4285-9732-ec928a6a5615",
   "metadata": {},
   "source": [
    "\n",
    "CƠ SỞ DỮ LIỆU SQLite TRONG PYTHON"
   ]
  },
  {
   "cell_type": "code",
   "execution_count": 7,
   "id": "c2ee8a9a-49f5-4aad-97cf-ce7554ee5bba",
   "metadata": {},
   "outputs": [
    {
     "name": "stdout",
     "output_type": "stream",
     "text": [
      "Requirement already satisfied: pysqlite3 in /opt/anaconda3/lib/python3.11/site-packages (0.5.2)\n",
      "<sqlite3.Connection object at 0x113e84a90>\n"
     ]
    }
   ],
   "source": [
    "#Cài đặt thư viện\n",
    "!pip install pysqlite3   #cài xong thì đóng lại để không tạo thêm\n",
    "\n",
    "#Import thư viện\n",
    "import sqlite3\n",
    "\n",
    "#Kết nối đến CSDL bằng một đường dẫn\n",
    "path = \".db\" #link.db\n",
    "connection = sqlite3.connect(path)\n",
    "\n",
    "print(connection)\n",
    "\n",
    "#Ngắt kết nối: dùng connection.close()"
   ]
  },
  {
   "cell_type": "code",
   "execution_count": null,
   "id": "b98de3ac-52bb-4916-8d54-155b905e0edf",
   "metadata": {},
   "outputs": [],
   "source": [
    "#Tạo đối tượng cursor\n",
    "cursor = connection.cursor()\n",
    "\n",
    "#Tạo câu lệnh SQL\n",
    "sql = \"SELECT * FROM sinhvien WHERE sinhvien.diemtb>=8\"\n",
    "cursor.execute(sql)\n",
    "result = cursor.fetchall() #fetch all : thực thi tất cả trong sql\n",
    "print(result)\n"
   ]
  },
  {
   "cell_type": "code",
   "execution_count": null,
   "id": "d271f7e1-db28-42b7-8324-339d4d4274a4",
   "metadata": {},
   "outputs": [],
   "source": [
    "#INSERT\n",
    "\n",
    "#Tạo đối tượng cursor\n",
    "cursor = connection.cursor()\n",
    "\n",
    "#Tạo câu lệnh SQL\n",
    "sql = \n",
    "\"INSERT INTO sinhvien(maSV, hovaten, diemtb) VALUES ('06', 'Nguyễn Văn A', 8.5)\"\n",
    "\n",
    "cursor.execute(sql)\n",
    "connection.commit()\n",
    "cursor.close()\n",
    "\n",
    "#result = cursor.fetchall()\n",
    "#print(result)"
   ]
  },
  {
   "cell_type": "code",
   "execution_count": null,
   "id": "4c11a35c-b075-4745-98f3-73f09c183531",
   "metadata": {},
   "outputs": [],
   "source": [
    "#UPDATE\n",
    "\n",
    "#Tạo đối tượng cursor\n",
    "cursor = connection.cursor()\n",
    "\n",
    "#Tạo câu lệnh SQL\n",
    "sql = \"UPDATE sinhvien set diemtb = diemtb + 1\"\n",
    "\n",
    "cursor.execute(sql)\n",
    "connection.commit()\n",
    "cursor.close()"
   ]
  },
  {
   "cell_type": "code",
   "execution_count": null,
   "id": "4f58e51a-7568-4caf-a255-ef8eb5bbe0c2",
   "metadata": {},
   "outputs": [],
   "source": [
    "#DELETE\n",
    "\n",
    "#Tạo đối tượng cursor\n",
    "cursor = connection.cursor()\n",
    "\n",
    "#Tạo câu lệnh SQL\n",
    "sql = \"DELETE FROM sinhvien WHERE diemtb>10\"\n",
    "\n",
    "cursor.execute(sql)\n",
    "connection.commit()\n",
    "cursor.close()"
   ]
  },
  {
   "cell_type": "code",
   "execution_count": null,
   "id": "6804943f-18ac-4b60-a917-e49c5c165585",
   "metadata": {},
   "outputs": [],
   "source": [
    "def printAll(result):\n",
    "    for item in result:\n",
    "        print(item)"
   ]
  },
  {
   "cell_type": "code",
   "execution_count": null,
   "id": "2fc1a93a-e800-42c1-ab62-24f40d62edb4",
   "metadata": {},
   "outputs": [],
   "source": [
    "#Tạo đối tượng cursor\n",
    "cursor = connection.cursor()\n",
    "\n",
    "#Tạo câu lệnh SQL\n",
    "sql = \"SELECT * FROM sinhvien\"\n",
    "cursor.execute(sql)\n",
    "result = cursor.fetchall() #fetch all : thực thi tất cả trong sql\n",
    "cursor.close()\n",
    "\n",
    "#In dữ liêu:\n",
    "printAll(result)"
   ]
  },
  {
   "cell_type": "markdown",
   "id": "8ea2a026-17fe-41d7-91e8-591803fd9962",
   "metadata": {},
   "source": [
    "--------------- @ ----------------\n"
   ]
  },
  {
   "cell_type": "markdown",
   "id": "a64daea0-3dbd-45b7-bed0-6c2d9d25df65",
   "metadata": {},
   "source": [
    "TẠO TABLE CHO SQLite TRONG PYTHON"
   ]
  },
  {
   "cell_type": "code",
   "execution_count": 8,
   "id": "2eb483b4-967a-40e8-a9b7-d258789059b3",
   "metadata": {},
   "outputs": [
    {
     "name": "stdout",
     "output_type": "stream",
     "text": [
      "<sqlite3.Connection object at 0x114b51e40>\n"
     ]
    }
   ],
   "source": [
    "#Database\n",
    "import sqlite3\n",
    "\n",
    "#Tạo kết nối với CSDL\n",
    "conn = sqlite3.connect(\".db\") #chèn link dẫn dến SQL\n",
    "print(conn)"
   ]
  },
  {
   "cell_type": "code",
   "execution_count": null,
   "id": "019a581b-c99d-4945-8f1a-4cfb34883c23",
   "metadata": {},
   "outputs": [],
   "source": [
    "#tạo thông tin về lớp học\n",
    "#tạo Table\n",
    "c = conn.cursor()\n",
    "\n",
    "#Xoá table nếu như đã tồn tại\n",
    "c.execute(\"DROP TABLE IF EXITS lop_hoc\")\n",
    "\n",
    "#tạo một table\n",
    "sql = \"\"\"\n",
    "    CREATE TABLE lop_hoc (\n",
    "        ma_lop varchar(50) NOT NULL PRIMARY_KEY,\n",
    "        ten_lop varchar(255) NULL DEFAULT NULL\n",
    "    )\n",
    "\"\"\"\n",
    "c.execute(sql)\n",
    "\n",
    "#Insert dữ liệu\n",
    "sql = \"\"\"\n",
    "    INSERT INTO TABLE lop_hoc(ma_lop, ten_lop)\n",
    "    VALUES\n",
    "        (\"Python\", \"Lập trình Python\")\n",
    "        (\"JSP\", \"Lập trình JSP\")\n",
    "\"\"\"\n",
    "c.execute(sql)\n",
    "conn.commit()\n"
   ]
  },
  {
   "cell_type": "code",
   "execution_count": null,
   "id": "d316dfa2-9f9d-4246-ad6a-8d4c16c14ca3",
   "metadata": {},
   "outputs": [],
   "source": [
    "#tạo thông tin về sinh viên\n",
    "#tạo Table\n",
    "c = conn.cursor()\n",
    "\n",
    "#Xoá table nếu như đã tồn tại\n",
    "c.execute(\"DROP TABLE IF EXITS sinh_vien\")\n",
    "\n",
    "#tạo một table\n",
    "sql = \"\"\"\n",
    "    CREATE TABLE \bsinh_vien (\n",
    "        masv varchar(50) NOT NULL PRIMARY_KEY,\n",
    "        \bhovaten varchar(255) NULL DEFAULT NULL,\n",
    "        ngaysinh date NULL DEFAULT NULL,\n",
    "        ma_lop varchar(255) NOT NULL,\n",
    "        \n",
    "    )\n",
    "\"\"\"\n",
    "c.execute(sql)\n",
    "\n",
    "#Insert dữ liệu\n",
    "sql = \"\"\"\n",
    "    INSERT INTO TABLE _vien(masv, hovaten, ngaysinh, ma_lop)\n",
    "    VALUES\n",
    "        (\"098\", \"\bNguyễn Văn A\", \"2000-07-07\", \"Python\")\n",
    "        (\"092\", \"\bNguyễn Văn B\", \"2000-07-14\", \"Python\")\n",
    "        (\"091\", \"\bNguyễn Văn C\", \"2000-09-07\", \"Python\")\n",
    "        \n",
    "\"\"\"\n",
    "c.execute(sql)\n",
    "conn.commit()"
   ]
  }
 ],
 "metadata": {
  "kernelspec": {
   "display_name": "Python 3 (ipykernel)",
   "language": "python",
   "name": "python3"
  },
  "language_info": {
   "codemirror_mode": {
    "name": "ipython",
    "version": 3
   },
   "file_extension": ".py",
   "mimetype": "text/x-python",
   "name": "python",
   "nbconvert_exporter": "python",
   "pygments_lexer": "ipython3",
   "version": "3.11.7"
  }
 },
 "nbformat": 4,
 "nbformat_minor": 5
}

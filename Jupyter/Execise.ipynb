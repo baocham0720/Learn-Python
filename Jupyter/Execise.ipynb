{
 "cells": [
  {
   "cell_type": "markdown",
   "id": "a5ffd928-f5d9-43ea-bbf4-ad8690059468",
   "metadata": {},
   "source": [
    "Bài tập: RÚT THĂM TRÚNG THƯỞNG yêu cầu sau:\n",
    "1. Thêm một mã số dự phòng thùng\n",
    "2. Xoá một mã số dự thưởng ra khỏi thùng\n",
    "3. Quay số ngẫu nhiên lấy ra một mã số trúng thưởng"
   ]
  },
  {
   "cell_type": "code",
   "execution_count": null,
   "id": "12f69a93-82be-4b7e-a62c-f7052dd63cb2",
   "metadata": {},
   "outputs": [
    {
     "name": "stdout",
     "output_type": "stream",
     "text": [
      "------- MENU ------\n",
      "Vui lòng lựa chọn chức năng: \n",
      "1- Thêm một số điện thoại vào thùng phiếu dự thưởng\n",
      "2- Xoá một số điện thoại từ thùng phiếu dự thưởng\n",
      "3- Quay số ngẫu nhiên lấy ra một số điện thoại trúng thưởng\n",
      "Kết thúc chương trình\n",
      "Thùng phiếu hiện tại: \n",
      "set()\n"
     ]
    },
    {
     "name": "stdin",
     "output_type": "stream",
     "text": [
      "Lựa chọn:  1\n",
      "Nhập vào SĐT dự thưởng:  0937483823\n",
      "Nhập phím bất kì để tiếp tuc \n"
     ]
    },
    {
     "name": "stdout",
     "output_type": "stream",
     "text": [
      "------- MENU ------\n",
      "Vui lòng lựa chọn chức năng: \n",
      "1- Thêm một số điện thoại vào thùng phiếu dự thưởng\n",
      "2- Xoá một số điện thoại từ thùng phiếu dự thưởng\n",
      "3- Quay số ngẫu nhiên lấy ra một số điện thoại trúng thưởng\n",
      "Kết thúc chương trình\n",
      "Thùng phiếu hiện tại: \n",
      "{'0937483823'}\n"
     ]
    },
    {
     "name": "stdin",
     "output_type": "stream",
     "text": [
      "Lựa chọn:  1\n",
      "Nhập vào SĐT dự thưởng:  0938743873\n",
      "Nhập phím bất kì để tiếp tuc \n"
     ]
    },
    {
     "name": "stdout",
     "output_type": "stream",
     "text": [
      "------- MENU ------\n",
      "Vui lòng lựa chọn chức năng: \n",
      "1- Thêm một số điện thoại vào thùng phiếu dự thưởng\n",
      "2- Xoá một số điện thoại từ thùng phiếu dự thưởng\n",
      "3- Quay số ngẫu nhiên lấy ra một số điện thoại trúng thưởng\n",
      "Kết thúc chương trình\n",
      "Thùng phiếu hiện tại: \n",
      "{'0937483823', '0938743873'}\n"
     ]
    },
    {
     "name": "stdin",
     "output_type": "stream",
     "text": [
      "Lựa chọn:  1\n",
      "Nhập vào SĐT dự thưởng:  0938737643\n",
      "Nhập phím bất kì để tiếp tuc \n"
     ]
    },
    {
     "name": "stdout",
     "output_type": "stream",
     "text": [
      "------- MENU ------\n",
      "Vui lòng lựa chọn chức năng: \n",
      "1- Thêm một số điện thoại vào thùng phiếu dự thưởng\n",
      "2- Xoá một số điện thoại từ thùng phiếu dự thưởng\n",
      "3- Quay số ngẫu nhiên lấy ra một số điện thoại trúng thưởng\n",
      "Kết thúc chương trình\n",
      "Thùng phiếu hiện tại: \n",
      "{'0937483823', '0938743873', '0938737643'}\n"
     ]
    },
    {
     "name": "stdin",
     "output_type": "stream",
     "text": [
      "Lựa chọn:  3\n"
     ]
    },
    {
     "name": "stdout",
     "output_type": "stream",
     "text": [
      "Vị trí trúng thưởng0\n",
      "Chúc mừng SĐT: 0937483823đã trúng thưởng\n"
     ]
    },
    {
     "name": "stdin",
     "output_type": "stream",
     "text": [
      "Nhập phím bất kì để tiếp tuc \n"
     ]
    },
    {
     "name": "stdout",
     "output_type": "stream",
     "text": [
      "------- MENU ------\n",
      "Vui lòng lựa chọn chức năng: \n",
      "1- Thêm một số điện thoại vào thùng phiếu dự thưởng\n",
      "2- Xoá một số điện thoại từ thùng phiếu dự thưởng\n",
      "3- Quay số ngẫu nhiên lấy ra một số điện thoại trúng thưởng\n",
      "Kết thúc chương trình\n",
      "Thùng phiếu hiện tại: \n",
      "{'0938743873', '0938737643'}\n"
     ]
    },
    {
     "name": "stdin",
     "output_type": "stream",
     "text": [
      "Lựa chọn:  2\n",
      "Nhập vào SĐT dự thưởng cần xoá:  0938743873\n",
      "Nhập phím bất kì để tiếp tuc \n"
     ]
    },
    {
     "name": "stdout",
     "output_type": "stream",
     "text": [
      "------- MENU ------\n",
      "Vui lòng lựa chọn chức năng: \n",
      "1- Thêm một số điện thoại vào thùng phiếu dự thưởng\n",
      "2- Xoá một số điện thoại từ thùng phiếu dự thưởng\n",
      "3- Quay số ngẫu nhiên lấy ra một số điện thoại trúng thưởng\n",
      "Kết thúc chương trình\n",
      "Thùng phiếu hiện tại: \n",
      "{'0938737643'}\n"
     ]
    }
   ],
   "source": [
    "#Tạo dựng menu:\n",
    "#Thư viện random:\n",
    "import random\n",
    "\n",
    "#Khai báo set:\n",
    "thungphieu = set()\n",
    "\n",
    "#Vòng lặp:\n",
    "while(True):\n",
    "    print(\"------- MENU ------\")\n",
    "    print(\"Vui lòng lựa chọn chức năng: \")\n",
    "    print(\"1- Thêm một số điện thoại vào thùng phiếu dự thưởng\")\n",
    "    print(\"2- Xoá một số điện thoại từ thùng phiếu dự thưởng\")\n",
    "    print(\"3- Quay số ngẫu nhiên lấy ra một số điện thoại trúng thưởng\")\n",
    "    print(\"Kết thúc chương trình\")\n",
    "    print(\"Thùng phiếu hiện tại: \")\n",
    "    print(thungphieu)\n",
    "    \n",
    "    luachon = int(input(\"Lựa chọn: \"))\n",
    "\n",
    "    if(luachon == 1):\n",
    "        sodienthoai = input(\"Nhập vào SĐT dự thưởng: \")\n",
    "        thungphieu.add(sodienthoai)\n",
    "    elif(luachon == 2):\n",
    "        sodienthoai = input(\"Nhập vào SĐT dự thưởng cần xoá: \")\n",
    "        thungphieu.discard(sodienthoai)\n",
    "    elif(luachon == 3):\n",
    "        index = random.randint(0,len(thungphieu)-1)\n",
    "        print(\"Vị trí trúng thưởng\" + str(index))\n",
    "\n",
    "        i = 0\n",
    "        for x in thungphieu:\n",
    "            if (i==index):\n",
    "                break\n",
    "            i = i+1\n",
    "            \n",
    "        print(\"Chúc mừng SĐT: \" + x + \"đã trúng thưởng\")\n",
    "        thungphieu.discard(x)\n",
    "    else:\n",
    "        break;\n",
    "\n",
    "    x = input(\"Nhập phím bất kì để tiếp tuc\")\n"
   ]
  },
  {
   "cell_type": "markdown",
   "id": "40787857-50ed-4346-8890-4bd8f937d018",
   "metadata": {},
   "source": [
    "Bài tập: XÂY DỰNG CHƯƠNG TRÌNH TRA TỪ ĐIỂN ANH - VIỆT theo yêu cầu:\n",
    "1. Thêm một từ vừng mới (kèm nghĩa của từ vừng vào từ điển)\n",
    "2. Tra cứu ý nghĩa của một từ vừng\n",
    "3. Cập nhật ý nghĩa cho một từ vừng\n",
    "4. Cho phép người dùng xoá đi một từ vựng trong từ điển\n",
    "5. Cho phép người dùng xoá toàn bộ từ vựng\n",
    "6. Cho phép người dùng in ra toàn bộ từ vựng\n",
    "7. Cho phép người dùng in ra toàn bộ từ điển theo cấu trúc : \"TỪ VỰNG\": \"Ý NGHĨA\"\n",
    "8. Kết thúc chương trình"
   ]
  },
  {
   "cell_type": "code",
   "execution_count": null,
   "id": "794ea660-fec7-4cc3-8db9-7a760e290fd5",
   "metadata": {},
   "outputs": [
    {
     "name": "stdout",
     "output_type": "stream",
     "text": [
      "Vui lòng lựa chọn chức năng(bằng số): \n",
      "\n",
      "        1.Thêm một từ vừng mới (kèm nghĩa của từ vừng vào từ điển)\n",
      "\n",
      "        2.Tra cứu ý nghĩa của một từ vừng \n",
      "\n",
      "        3.Cập nhật ý nghĩa cho một từ vừng \n",
      "\n",
      "        4.Cho phép người dùng xoá đi một từ vựng trong từ điển \n",
      "\n",
      "        5.Cho phép người dùng xoá toàn bộ từ vựng \n",
      "\n",
      "        6.Cho phép người dùng in ra toàn bộ từ vựng \n",
      "\n",
      "        7.Cho phép người dùng in ra toàn bộ từ điển theo cấu trúc : \"TỪ VỰNG\": \"Ý NGHĨA\" \n",
      "\n",
      "        8.Kết thúc chương trình \n",
      "\n",
      "    \n"
     ]
    },
    {
     "name": "stdin",
     "output_type": "stream",
     "text": [
      "Nhập vào lựa chọn của bạn:  1\n",
      "Nhập vào từ vừng:  hello\n",
      "Nhập vào ý nghĩa:  xin chào\n"
     ]
    },
    {
     "name": "stdout",
     "output_type": "stream",
     "text": [
      "Đã thêm hoặc cập nhật dữ liệu: \n",
      "Vui lòng lựa chọn chức năng(bằng số): \n",
      "\n",
      "        1.Thêm một từ vừng mới (kèm nghĩa của từ vừng vào từ điển)\n",
      "\n",
      "        2.Tra cứu ý nghĩa của một từ vừng \n",
      "\n",
      "        3.Cập nhật ý nghĩa cho một từ vừng \n",
      "\n",
      "        4.Cho phép người dùng xoá đi một từ vựng trong từ điển \n",
      "\n",
      "        5.Cho phép người dùng xoá toàn bộ từ vựng \n",
      "\n",
      "        6.Cho phép người dùng in ra toàn bộ từ vựng \n",
      "\n",
      "        7.Cho phép người dùng in ra toàn bộ từ điển theo cấu trúc : \"TỪ VỰNG\": \"Ý NGHĨA\" \n",
      "\n",
      "        8.Kết thúc chương trình \n",
      "\n",
      "    \n"
     ]
    },
    {
     "name": "stdin",
     "output_type": "stream",
     "text": [
      "Nhập vào lựa chọn của bạn:  1\n",
      "Nhập vào từ vừng:  orange\n",
      "Nhập vào ý nghĩa:  cam\n"
     ]
    },
    {
     "name": "stdout",
     "output_type": "stream",
     "text": [
      "Đã thêm hoặc cập nhật dữ liệu: \n",
      "Vui lòng lựa chọn chức năng(bằng số): \n",
      "\n",
      "        1.Thêm một từ vừng mới (kèm nghĩa của từ vừng vào từ điển)\n",
      "\n",
      "        2.Tra cứu ý nghĩa của một từ vừng \n",
      "\n",
      "        3.Cập nhật ý nghĩa cho một từ vừng \n",
      "\n",
      "        4.Cho phép người dùng xoá đi một từ vựng trong từ điển \n",
      "\n",
      "        5.Cho phép người dùng xoá toàn bộ từ vựng \n",
      "\n",
      "        6.Cho phép người dùng in ra toàn bộ từ vựng \n",
      "\n",
      "        7.Cho phép người dùng in ra toàn bộ từ điển theo cấu trúc : \"TỪ VỰNG\": \"Ý NGHĨA\" \n",
      "\n",
      "        8.Kết thúc chương trình \n",
      "\n",
      "    \n"
     ]
    },
    {
     "name": "stdin",
     "output_type": "stream",
     "text": [
      "Nhập vào lựa chọn của bạn:  3\n",
      "Nhập vào từ vừng:  green\n",
      "Nhập vào ý nghĩa:  xanh lá\n"
     ]
    },
    {
     "name": "stdout",
     "output_type": "stream",
     "text": [
      "Đã thêm hoặc cập nhật dữ liệu: \n",
      "Vui lòng lựa chọn chức năng(bằng số): \n",
      "\n",
      "        1.Thêm một từ vừng mới (kèm nghĩa của từ vừng vào từ điển)\n",
      "\n",
      "        2.Tra cứu ý nghĩa của một từ vừng \n",
      "\n",
      "        3.Cập nhật ý nghĩa cho một từ vừng \n",
      "\n",
      "        4.Cho phép người dùng xoá đi một từ vựng trong từ điển \n",
      "\n",
      "        5.Cho phép người dùng xoá toàn bộ từ vựng \n",
      "\n",
      "        6.Cho phép người dùng in ra toàn bộ từ vựng \n",
      "\n",
      "        7.Cho phép người dùng in ra toàn bộ từ điển theo cấu trúc : \"TỪ VỰNG\": \"Ý NGHĨA\" \n",
      "\n",
      "        8.Kết thúc chương trình \n",
      "\n",
      "    \n"
     ]
    },
    {
     "name": "stdin",
     "output_type": "stream",
     "text": [
      "Nhập vào lựa chọn của bạn:  2\n",
      "Nhập vào từ vừng:  orange\n"
     ]
    },
    {
     "name": "stdout",
     "output_type": "stream",
     "text": [
      "Ý nghĩa:  cam\n",
      "Vui lòng lựa chọn chức năng(bằng số): \n",
      "\n",
      "        1.Thêm một từ vừng mới (kèm nghĩa của từ vừng vào từ điển)\n",
      "\n",
      "        2.Tra cứu ý nghĩa của một từ vừng \n",
      "\n",
      "        3.Cập nhật ý nghĩa cho một từ vừng \n",
      "\n",
      "        4.Cho phép người dùng xoá đi một từ vựng trong từ điển \n",
      "\n",
      "        5.Cho phép người dùng xoá toàn bộ từ vựng \n",
      "\n",
      "        6.Cho phép người dùng in ra toàn bộ từ vựng \n",
      "\n",
      "        7.Cho phép người dùng in ra toàn bộ từ điển theo cấu trúc : \"TỪ VỰNG\": \"Ý NGHĨA\" \n",
      "\n",
      "        8.Kết thúc chương trình \n",
      "\n",
      "    \n"
     ]
    },
    {
     "name": "stdin",
     "output_type": "stream",
     "text": [
      "Nhập vào lựa chọn của bạn:  6\n"
     ]
    },
    {
     "name": "stdout",
     "output_type": "stream",
     "text": [
      "Danh sách các từ vựng có trong từ điển: \n",
      "hello\n",
      "orange\n",
      "green\n",
      "Vui lòng lựa chọn chức năng(bằng số): \n",
      "\n",
      "        1.Thêm một từ vừng mới (kèm nghĩa của từ vừng vào từ điển)\n",
      "\n",
      "        2.Tra cứu ý nghĩa của một từ vừng \n",
      "\n",
      "        3.Cập nhật ý nghĩa cho một từ vừng \n",
      "\n",
      "        4.Cho phép người dùng xoá đi một từ vựng trong từ điển \n",
      "\n",
      "        5.Cho phép người dùng xoá toàn bộ từ vựng \n",
      "\n",
      "        6.Cho phép người dùng in ra toàn bộ từ vựng \n",
      "\n",
      "        7.Cho phép người dùng in ra toàn bộ từ điển theo cấu trúc : \"TỪ VỰNG\": \"Ý NGHĨA\" \n",
      "\n",
      "        8.Kết thúc chương trình \n",
      "\n",
      "    \n"
     ]
    }
   ],
   "source": [
    "#Khai báo từ điển\n",
    "tudien = {}\n",
    "\n",
    "while(True):\n",
    "    print(\"Vui lòng lựa chọn chức năng(bằng số): \")\n",
    "    print(\"\"\"\n",
    "        1.Thêm một từ vừng mới (kèm nghĩa của từ vừng vào từ điển)\\n\n",
    "        2.Tra cứu ý nghĩa của một từ vừng \\n\n",
    "        3.Cập nhật ý nghĩa cho một từ vừng \\n\n",
    "        4.Cho phép người dùng xoá đi một từ vựng trong từ điển \\n\n",
    "        5.Cho phép người dùng xoá toàn bộ từ vựng \\n\n",
    "        6.Cho phép người dùng in ra toàn bộ từ vựng \\n\n",
    "        7.Cho phép người dùng in ra toàn bộ từ điển theo cấu trúc : \"TỪ VỰNG\": \"Ý NGHĨA\" \\n\n",
    "        8.Kết thúc chương trình \\n\n",
    "    \"\"\")\n",
    "    luachon = int(input(\"Nhập vào lựa chọn của bạn: \"))\n",
    "\n",
    "    if(luachon == 1 or luachon == 3):\n",
    "        tuvung = input(\"Nhập vào từ vừng: \")\n",
    "        ynghia = input(\"Nhập vào ý nghĩa: \")\n",
    "        tudien[tuvung] = ynghia\n",
    "        print(\"Đã thêm hoặc cập nhật dữ liệu: \")\n",
    "        \n",
    "    elif(luachon == 2):\n",
    "        tuvung = input(\"Nhập vào từ vừng: \")\n",
    "        print(\"Ý nghĩa: \", tudien[tuvung])\n",
    "        \n",
    "        \n",
    "    elif(luachon == 4):\n",
    "        tuvung = input(\"Nhập vào từ vừng cần tra cứu: \")\n",
    "        tudien.pop(tuvung)\n",
    "        print(\"Ý nghĩa: \", tudien[tuvung])\n",
    "        print(\"Đã xoá dữ liệu!\")\n",
    "    \n",
    "    elif(luachon == 5):\n",
    "        tudien.clear()\n",
    "        print(\"Đã xoá toàn bộ dữ liệu!\")\n",
    "\n",
    "    elif(luachon == 6):\n",
    "        print(\"Danh sách các từ vựng có trong từ điển: \")\n",
    "        for x in tudien.keys():\n",
    "            print(x)\n",
    "\n",
    "    elif(luachon == 7):\n",
    "        print(\"Danh sách các từ vựng có trong từ điển: \")\n",
    "        for x, y in tudien.items():\n",
    "            print(x, \":\", y)\n",
    "    elif(luachon == 8):\n",
    "        break\n",
    "    else:\n",
    "        print(\"Nhập lựa chọn không đúng!\")"
   ]
  },
  {
   "cell_type": "code",
   "execution_count": null,
   "id": "f5e2af8d-98c3-4a5a-9d60-41eaa6cb69a1",
   "metadata": {},
   "outputs": [],
   "source": []
  }
 ],
 "metadata": {
  "kernelspec": {
   "display_name": "Python 3 (ipykernel)",
   "language": "python",
   "name": "python3"
  },
  "language_info": {
   "codemirror_mode": {
    "name": "ipython",
    "version": 3
   },
   "file_extension": ".py",
   "mimetype": "text/x-python",
   "name": "python",
   "nbconvert_exporter": "python",
   "pygments_lexer": "ipython3",
   "version": "3.11.7"
  }
 },
 "nbformat": 4,
 "nbformat_minor": 5
}

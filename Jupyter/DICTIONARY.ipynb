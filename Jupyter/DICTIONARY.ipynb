{
 "cells": [
  {
   "cell_type": "markdown",
   "id": "a05c4989-d764-4d52-ad38-8a9963e2bdd2",
   "metadata": {},
   "source": [
    "DICTIONARY DATATYPE"
   ]
  },
  {
   "cell_type": "code",
   "execution_count": 3,
   "id": "09facd2d-f70b-4c82-82b2-b126440b75b4",
   "metadata": {},
   "outputs": [],
   "source": [
    "#Lưu trữ các giá trụ dữ liệu trong cặp key:value\n",
    "#Sử dụng : {}"
   ]
  },
  {
   "cell_type": "code",
   "execution_count": 4,
   "id": "bcc8210f-9c08-4e22-8fc5-b8a221c4f8e6",
   "metadata": {},
   "outputs": [],
   "source": [
    "#Là tập hợp được sắp xếp theo thứ tự *, \n",
    "#có thể thay đổi value nhưng không được phép trùng lặp key trong Dictionary"
   ]
  },
  {
   "cell_type": "code",
   "execution_count": 14,
   "id": "c577b08a-8f2d-487f-b8ea-6c4a1f8e872b",
   "metadata": {},
   "outputs": [
    {
     "name": "stdout",
     "output_type": "stream",
     "text": [
      "{'hovaten': 'Nguyen Van A', 'malop': 'DH01', 'diemtrungbinh': 8.5}\n",
      "Nguyen Van A\n"
     ]
    }
   ],
   "source": [
    "sinhvien = {\n",
    "    \"hovaten\" : \"Nguyen Van A\",\n",
    "    \"malop\" : \"DH01\",\n",
    "    \"diemtrungbinh\" : 8.5\n",
    "}\n",
    "print(sinhvien)\n",
    "#in ra cụ thể\n",
    "print(sinhvien[\"hovaten\"])"
   ]
  },
  {
   "cell_type": "code",
   "execution_count": 15,
   "id": "bae88f6a-afe4-4a0a-be03-fe21c5fc4c1f",
   "metadata": {},
   "outputs": [
    {
     "name": "stdout",
     "output_type": "stream",
     "text": [
      "DH01\n"
     ]
    }
   ],
   "source": [
    "#Sử dụng GET() để lấy giá trị\n",
    "print(sinhvien.get(\"malop\"))"
   ]
  },
  {
   "cell_type": "code",
   "execution_count": 23,
   "id": "653d6875-e2d3-417c-90e9-0a6276fea4bd",
   "metadata": {},
   "outputs": [
    {
     "name": "stdout",
     "output_type": "stream",
     "text": [
      "{'hovaten': 'Nguyen Van A', 'malop': 'DH03', 'diemtrungbinh': 8.6, 'noisinh': 'Tra Vinh'}\n",
      "{'hovaten': 'Nguyen Van A', 'malop': 'DH02', 'diemtrungbinh': 8.6, 'noisinh': 'Tra Vinh'}\n"
     ]
    }
   ],
   "source": [
    "#Sử dụng UPDATE() thay đổi giá trị và thêm\n",
    "sinhvien.update({\"malop\": \"DH03\", \"diemtrungbinh\": 8.6,\"noisinh\": \"Tra Vinh\" })\n",
    "print(sinhvien)\n",
    "\n",
    "#cách 2:\n",
    "sinhvien[\"malop\"] = \"DH02\"\n",
    "print(sinhvien)"
   ]
  },
  {
   "cell_type": "code",
   "execution_count": 24,
   "id": "5ff69d79-a5e4-4e5e-88eb-f7a0e00354be",
   "metadata": {},
   "outputs": [
    {
     "name": "stdout",
     "output_type": "stream",
     "text": [
      "{'hovaten': 'Nguyen Van A', 'malop': 'DH02', 'diemtrungbinh': 8.6, 'noisinh': 'Tra Vinh', 'namhoc': 2015}\n",
      "{'hovaten': 'Nguyen Van A', 'malop': 'DH02', 'diemtrungbinh': 8.6, 'noisinh': 'Tra Vinh', 'namhoc': 2015, 'truonghoc': 'Đại học Bách Khoa HN'}\n"
     ]
    }
   ],
   "source": [
    "#Thêm cặp key:value\n",
    "sinhvien [\"namhoc\"] = 2015\n",
    "print(sinhvien)\n",
    "sinhvien.update({\"truonghoc\": \"Đại học Bách Khoa HN\"})\n",
    "print(sinhvien)"
   ]
  },
  {
   "cell_type": "code",
   "execution_count": 25,
   "id": "38c54300-ca0e-428b-8328-5025f10ab15e",
   "metadata": {},
   "outputs": [
    {
     "name": "stdout",
     "output_type": "stream",
     "text": [
      "{'hovaten': 'Nguyen Van A', 'malop': 'DH02', 'diemtrungbinh': 8.6, 'namhoc': 2015, 'truonghoc': 'Đại học Bách Khoa HN'}\n"
     ]
    }
   ],
   "source": [
    "#Xoá đi các mục:\n",
    "sinhvien.pop(\"noisinh\")\n",
    "print(sinhvien)"
   ]
  },
  {
   "cell_type": "code",
   "execution_count": 26,
   "id": "6d0f9580-3968-4ace-b084-b9889e1ab76e",
   "metadata": {},
   "outputs": [
    {
     "name": "stdout",
     "output_type": "stream",
     "text": [
      "{'hovaten': 'Nguyen Van A', 'malop': 'DH02', 'diemtrungbinh': 8.6, 'namhoc': 2015}\n"
     ]
    }
   ],
   "source": [
    "#Xoá với popitem() : tìm và xoá phần cuối cùng thêm vào\n",
    "sinhvien.popitem()\n",
    "print(sinhvien)"
   ]
  },
  {
   "cell_type": "code",
   "execution_count": 28,
   "id": "f581d63d-8871-44f6-8176-759f29ba0f54",
   "metadata": {},
   "outputs": [
    {
     "name": "stdout",
     "output_type": "stream",
     "text": [
      "{'malop': 'DH02', 'diemtrungbinh': 8.6, 'namhoc': 2015}\n"
     ]
    }
   ],
   "source": [
    "#Xoá với del: \n",
    "del sinhvien[\"hovaten\"]\n",
    "print(sinhvien)"
   ]
  },
  {
   "cell_type": "code",
   "execution_count": 29,
   "id": "af84fd9c-4323-48ed-b343-7879b16c2a9a",
   "metadata": {},
   "outputs": [],
   "source": [
    "#Xoá với del mà không kèm [] thì tất cả đều được xoá hoàn toàn"
   ]
  },
  {
   "cell_type": "code",
   "execution_count": 30,
   "id": "d4acb50f-0b44-491f-9af0-2684397f7812",
   "metadata": {},
   "outputs": [
    {
     "name": "stdout",
     "output_type": "stream",
     "text": [
      "{'malop': 'DH02', 'diemtrungbinh': 8.6, 'namhoc': 2015}\n",
      "{}\n"
     ]
    }
   ],
   "source": [
    "#Phương thức clear()\n",
    "print(sinhvien)\n",
    "sinhvien.clear()\n",
    "print(sinhvien)"
   ]
  },
  {
   "cell_type": "code",
   "execution_count": 34,
   "id": "5d8149be-be19-4ab5-91cb-d132aab9ad0d",
   "metadata": {},
   "outputs": [
    {
     "name": "stdout",
     "output_type": "stream",
     "text": [
      "{'hovaten': 'Nguyen Van A', 'malop': 'DH01', 'diemtrungbinh': 8.5}\n"
     ]
    }
   ],
   "source": [
    "#lấy lại dữ liệu :\n",
    "sinhvien = {\n",
    "    \"hovaten\" : \"Nguyen Van A\",\n",
    "    \"malop\" : \"DH01\",\n",
    "    \"diemtrungbinh\" : 8.5\n",
    "}\n",
    "print(sinhvien)"
   ]
  },
  {
   "cell_type": "code",
   "execution_count": 35,
   "id": "a3e16e79-8f3d-4071-a3ce-4416e5077c41",
   "metadata": {},
   "outputs": [
    {
     "name": "stdout",
     "output_type": "stream",
     "text": [
      "Nguyen Van A\n",
      "DH01\n",
      "8.5\n"
     ]
    }
   ],
   "source": [
    "#Duyệt các giá trị: value\n",
    "for x in sinhvien.values():\n",
    "    print(x)"
   ]
  },
  {
   "cell_type": "code",
   "execution_count": 36,
   "id": "f92664bb-61dc-4e1c-a0a9-60b8280ec6ae",
   "metadata": {},
   "outputs": [
    {
     "name": "stdout",
     "output_type": "stream",
     "text": [
      "hovaten\n",
      "malop\n",
      "diemtrungbinh\n"
     ]
    }
   ],
   "source": [
    "#Duyệt các từ khoá: key\n",
    "for x in sinhvien.keys():\n",
    "    print(x)"
   ]
  },
  {
   "cell_type": "code",
   "execution_count": 37,
   "id": "ab6ecf0c-03f4-40ee-9555-f05cf07c37bd",
   "metadata": {},
   "outputs": [
    {
     "name": "stdout",
     "output_type": "stream",
     "text": [
      "hovaten Nguyen Van A\n",
      "malop DH01\n",
      "diemtrungbinh 8.5\n"
     ]
    }
   ],
   "source": [
    "#Duyệt các cặp khoá - giá trị: key-value\n",
    "for x, y in sinhvien.items():\n",
    "    print(x, y)"
   ]
  },
  {
   "cell_type": "code",
   "execution_count": null,
   "id": "794f8972-c05b-4970-aed5-2717563249c7",
   "metadata": {},
   "outputs": [],
   "source": []
  }
 ],
 "metadata": {
  "kernelspec": {
   "display_name": "Python 3 (ipykernel)",
   "language": "python",
   "name": "python3"
  },
  "language_info": {
   "codemirror_mode": {
    "name": "ipython",
    "version": 3
   },
   "file_extension": ".py",
   "mimetype": "text/x-python",
   "name": "python",
   "nbconvert_exporter": "python",
   "pygments_lexer": "ipython3",
   "version": "3.11.7"
  }
 },
 "nbformat": 4,
 "nbformat_minor": 5
}

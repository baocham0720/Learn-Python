{
 "cells": [
  {
   "cell_type": "code",
   "execution_count": 2,
   "id": "d476e362-d763-43d6-93c0-4b26a717bc83",
   "metadata": {},
   "outputs": [
    {
     "name": "stdout",
     "output_type": "stream",
     "text": [
      "[]\n",
      "[]\n"
     ]
    }
   ],
   "source": [
    "#Tạo list rỗng\n",
    "emptyList = []\n",
    "\n",
    "#Tạo ra một đối tượng list\n",
    "emptyList2 = list()\n",
    "\n",
    "print(emptyList)\n",
    "print(emptyList2)"
   ]
  },
  {
   "cell_type": "code",
   "execution_count": 3,
   "id": "8b04b97a-fe3b-4637-90f0-87d8cd6de78a",
   "metadata": {},
   "outputs": [
    {
     "name": "stdout",
     "output_type": "stream",
     "text": [
      "['red', 'green', 'orange']\n"
     ]
    }
   ],
   "source": [
    "#Tạo ra list có dữ liệu\n",
    "color = [\"red\", \"green\", \"orange\"]\n",
    "print(color)"
   ]
  },
  {
   "cell_type": "code",
   "execution_count": 4,
   "id": "59e8a286-1704-452b-8e51-55ed6d03e6ec",
   "metadata": {},
   "outputs": [
    {
     "name": "stdout",
     "output_type": "stream",
     "text": [
      "Ngân\n",
      "An\n"
     ]
    }
   ],
   "source": [
    "#list có thứ tự vị trí các phần tử được đánh dấu từ trái sang phải\n",
    "studentList = [\"An\", \"Bình\", \"Ngân\", \"Vy\"]\n",
    "\n",
    "print(studentList[2])\n",
    "print(studentList[0])"
   ]
  },
  {
   "cell_type": "code",
   "execution_count": 5,
   "id": "a4b570e6-0cae-4e62-8e8e-a08f4d70a8c5",
   "metadata": {},
   "outputs": [
    {
     "name": "stdout",
     "output_type": "stream",
     "text": [
      "['An', 'Bình', 'Ngân', 'Vy']\n",
      "['An', 'Bình', 'Ngân', 'Vy']\n"
     ]
    }
   ],
   "source": [
    "#Lấy tất cả\n",
    "print(studentList)\n",
    "print(studentList[:]) "
   ]
  },
  {
   "cell_type": "code",
   "execution_count": 6,
   "id": "c0558c7e-9ae0-440d-9bbc-a76bc0768ee7",
   "metadata": {},
   "outputs": [
    {
     "name": "stdout",
     "output_type": "stream",
     "text": [
      "['Bình']\n",
      "['An', 'Bình']\n",
      "['Bình', 'Ngân', 'Vy']\n"
     ]
    }
   ],
   "source": [
    "#lấy vị trí đầu x : kết thúc vị trí y thì nó sẽ ở giữa x&y nhưng > y\n",
    "print(studentList[1:2])\n",
    "print(studentList[0:2])\n",
    "print(studentList[1:4])"
   ]
  },
  {
   "cell_type": "code",
   "execution_count": 7,
   "id": "1e5bf413-686c-40ab-b797-199932693da1",
   "metadata": {},
   "outputs": [
    {
     "name": "stdout",
     "output_type": "stream",
     "text": [
      "['An', 'Bình', 'Ngân', 'Vy', 'Thiên']\n"
     ]
    }
   ],
   "source": [
    "#Thêm phần tử vào list\n",
    "studentList.append(\"Thiên\")\n",
    "print(studentList)\n",
    "\n",
    "#Thêm phần tử vào cuối list\n",
    "studentList[len(studentList):] = [\"Thành\"]"
   ]
  },
  {
   "cell_type": "code",
   "execution_count": 10,
   "id": "cbbb8df9-1f18-45ef-86df-c5bf82240b57",
   "metadata": {},
   "outputs": [
    {
     "name": "stdout",
     "output_type": "stream",
     "text": [
      "['An', 'Bình', 'Ngọc', 'Ngọc', 'Ngân', 'Vy', 'Thiên', 'Thành']\n"
     ]
    }
   ],
   "source": [
    "#Chèn phần tử:\n",
    "studentList.insert(2, \"Ngọc\")\n",
    "print(studentList"
   ]
  },
  {
   "cell_type": "code",
   "execution_count": 10,
   "id": "0854fe9c-be90-46bc-9c51-8b90e8414063",
   "metadata": {},
   "outputs": [
    {
     "name": "stdout",
     "output_type": "stream",
     "text": [
      "['An', 'Bình', 'Ngọc', 'Ngọc', 'Ngân', 'Vy', 'Thiên', 'Thành']\n"
     ]
    }
   ],
   "source": [
    "#Chèn phần tử:\n",
    "studentList.insert(2, \"Ngọc\")\n",
    "print(studentList)"
   ]
  },
  {
   "cell_type": "code",
   "execution_count": 9,
   "id": "e64b871a-a158-4cb0-a7a6-f8c639662c69",
   "metadata": {},
   "outputs": [
    {
     "name": "stdout",
     "output_type": "stream",
     "text": [
      "7\n"
     ]
    }
   ],
   "source": [
    "#Số lượng phần tử có trong List: => len\n",
    "print(len(studentList))"
   ]
  },
  {
   "cell_type": "code",
   "execution_count": 12,
   "id": "44b5eda5-aa31-4f00-bafb-c4b70e79b492",
   "metadata": {},
   "outputs": [
    {
     "name": "stdout",
     "output_type": "stream",
     "text": [
      "Đếm Ngọc:  0\n",
      "Đếm Ngọc:  2\n",
      "Đếm Thành:  1\n"
     ]
    }
   ],
   "source": [
    "#Đếm xem có bao nhiêu phần tử thoả điều kiện\n",
    "print(\"Đếm Ngọc: \", studentList.count(\"Ngoc\"))\n",
    "print(\"Đếm Ngọc: \", studentList.count(\"Ngọc\"))\n",
    "print(\"Đếm Thành: \", studentList.count(\"Thành\"))"
   ]
  },
  {
   "cell_type": "code",
   "execution_count": 16,
   "id": "c802e555-f0b8-49e1-a266-e6a45b0f7ba7",
   "metadata": {},
   "outputs": [
    {
     "name": "stdout",
     "output_type": "stream",
     "text": [
      "['An', 'Bình', 'Ngọc', 'Vy', 'Thiên', 'Thành']\n"
     ]
    }
   ],
   "source": [
    "#Xoá phần tử khỏi list\n",
    "#studentList.remove(\"Ngân\")\n",
    "#print(studentList)\n",
    "\n",
    "studentList.remove(\"Ngọc\")\n",
    "print(studentList)\n",
    "\n",
    "#nếu trùng tên thì sẽ xoá tên đầu tiên từ trái sang phải"
   ]
  },
  {
   "cell_type": "code",
   "execution_count": 17,
   "id": "d88094e6-a24d-4f98-8e63-2db594073ca2",
   "metadata": {},
   "outputs": [
    {
     "name": "stdout",
     "output_type": "stream",
     "text": [
      "['An', 'Bình', 'Ngọc', 'Thiên', 'Thành']\n"
     ]
    }
   ],
   "source": [
    "#Kiểm tra phần tử có bên trong list: in, có thì mới xoá\n",
    "if \"Vy\" in studentList: \n",
    "    studentList.remove(\"Vy\")\n",
    "    print(studentList)"
   ]
  },
  {
   "cell_type": "code",
   "execution_count": 18,
   "id": "b0ac024d-fc74-4617-872f-5c6723ec57c6",
   "metadata": {},
   "outputs": [
    {
     "name": "stdout",
     "output_type": "stream",
     "text": [
      "['Bình', 'Ngọc', 'Thiên', 'Thành']\n"
     ]
    }
   ],
   "source": [
    "#Xoá phần tử ra khỏi List bằng vị trí\n",
    "studentList.pop(0)\n",
    "print(studentList)"
   ]
  },
  {
   "cell_type": "code",
   "execution_count": 21,
   "id": "cd1a3bb3-7df2-42d8-be86-f6adec637e7b",
   "metadata": {},
   "outputs": [
    {
     "name": "stdout",
     "output_type": "stream",
     "text": [
      "['Thành', 'Thiên', 'Ngọc', 'Bình']\n"
     ]
    }
   ],
   "source": [
    "#Đảo vị trí các phần tử với nhau \n",
    "studentList.reverse()\n",
    "print(studentList)"
   ]
  },
  {
   "cell_type": "code",
   "execution_count": 23,
   "id": "c74aef53-f60e-459b-a9d5-5d4f134b31ce",
   "metadata": {},
   "outputs": [
    {
     "name": "stdout",
     "output_type": "stream",
     "text": [
      "['Bình', 'Ngọc', 'Thiên', 'Thành']\n"
     ]
    }
   ],
   "source": [
    "#Sắp xếp lại \btheo chữ cái\n",
    "studentList.sort()\n",
    "print(studentList)"
   ]
  },
  {
   "cell_type": "code",
   "execution_count": 25,
   "id": "7464a0a9-b203-4671-90d2-b8236b20d9bf",
   "metadata": {},
   "outputs": [
    {
     "name": "stdout",
     "output_type": "stream",
     "text": [
      "[2, 3, 4, 5, 7, 9]\n"
     ]
    }
   ],
   "source": [
    "numbers = [7, 5, 9, 4, 3, 2]\n",
    "numbers.sort()\n",
    "print(numbers)"
   ]
  },
  {
   "cell_type": "code",
   "execution_count": 26,
   "id": "8e9f8f05-3033-4c2f-ad65-9d42e1a9ceb1",
   "metadata": {},
   "outputs": [
    {
     "name": "stdout",
     "output_type": "stream",
     "text": [
      "['Thành', 'Thiên', 'Ngọc', 'Bình']\n"
     ]
    }
   ],
   "source": [
    "#Sắp xếp ngược:\n",
    "studentList.sort(reverse=True)\n",
    "print(studentList)"
   ]
  },
  {
   "cell_type": "code",
   "execution_count": 27,
   "id": "b47a73ed-a70f-4a54-bdf2-ecbf957b4247",
   "metadata": {},
   "outputs": [
    {
     "name": "stdout",
     "output_type": "stream",
     "text": [
      "[9, 7, 5, 4, 3, 2]\n"
     ]
    }
   ],
   "source": [
    "numbers.sort(reverse=True)\n",
    "print(numbers)"
   ]
  },
  {
   "cell_type": "code",
   "execution_count": 28,
   "id": "75884a2f-d031-4792-a75b-20c2a5414950",
   "metadata": {},
   "outputs": [
    {
     "name": "stdout",
     "output_type": "stream",
     "text": [
      "[]\n"
     ]
    }
   ],
   "source": [
    "#Xoá sạch dữ liêu trong list\n",
    "studentList.clear()\n",
    "print(studentList)"
   ]
  },
  {
   "cell_type": "code",
   "execution_count": null,
   "id": "13ad5b9b-9323-4f76-af66-38b94e5b4c36",
   "metadata": {},
   "outputs": [],
   "source": []
  }
 ],
 "metadata": {
  "kernelspec": {
   "display_name": "Python 3 (ipykernel)",
   "language": "python",
   "name": "python3"
  },
  "language_info": {
   "codemirror_mode": {
    "name": "ipython",
    "version": 3
   },
   "file_extension": ".py",
   "mimetype": "text/x-python",
   "name": "python",
   "nbconvert_exporter": "python",
   "pygments_lexer": "ipython3",
   "version": "3.9.6"
  }
 },
 "nbformat": 4,
 "nbformat_minor": 5
}

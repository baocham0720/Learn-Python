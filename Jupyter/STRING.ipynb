{
 "cells": [
  {
   "cell_type": "markdown",
   "id": "3a2bd4a0-6a59-495b-9e86-24d52fb77593",
   "metadata": {},
   "source": [
    "STRING DATATYPE"
   ]
  },
  {
   "cell_type": "code",
   "execution_count": 1,
   "id": "09c6757b-4ba9-41b6-843f-98531a7d7ebf",
   "metadata": {},
   "outputs": [
    {
     "name": "stdout",
     "output_type": "stream",
     "text": [
      "<class 'int'>\n",
      "<class 'float'>\n",
      "<class 'bool'>\n",
      "<class 'str'>\n"
     ]
    }
   ],
   "source": [
    "a = 10\n",
    "print(type(a))\n",
    "b = 10.5\n",
    "print(type(b))\n",
    "c = True\n",
    "print(type(c))\n",
    "d = \"Xin chào\"\n",
    "print(type(d))\n"
   ]
  },
  {
   "cell_type": "code",
   "execution_count": 4,
   "id": "105f4886-0c85-4ea7-ae2a-35cc208307d8",
   "metadata": {},
   "outputs": [
    {
     "name": "stdout",
     "output_type": "stream",
     "text": [
      "xin chào Hero\n"
     ]
    }
   ],
   "source": [
    "s1= \"xin chào\"\n",
    "s2= \"Hero\"\n",
    "s3 = s1+\" \"+s2 \n",
    "print(s3)"
   ]
  },
  {
   "cell_type": "code",
   "execution_count": 6,
   "id": "38feda31-d012-43eb-9a95-cf58cccfe3cd",
   "metadata": {},
   "outputs": [
    {
     "name": "stdout",
     "output_type": "stream",
     "text": [
      "\n",
      "Dòng 1\n",
      "Dòng 2\n",
      "Dòng 3\n",
      "\n"
     ]
    }
   ],
   "source": [
    "chuoi_nhieu_dong = '''\n",
    "Dòng 1\n",
    "Dòng 2\n",
    "Dòng 3\n",
    "'''\n",
    "print(chuoi_nhieu_dong)\n",
    "#chuỗi nhiều dòng thì dùng ''' <chứa nội dung> '''"
   ]
  },
  {
   "cell_type": "code",
   "execution_count": 10,
   "id": "5f7ffa9e-0883-40fc-8667-3d0971429d33",
   "metadata": {},
   "outputs": [
    {
     "name": "stdout",
     "output_type": "stream",
     "text": [
      "Em hứa làm bài tập đầy đủ\n",
      "Em hứa làm bài tập đầy đủ\n",
      "Em hứa làm bài tập đầy đủ\n",
      "Em hứa làm bài tập đầy đủ\n",
      "Em hứa làm bài tập đầy đủ\n",
      "Em hứa làm bài tập đầy đủ\n",
      "Em hứa làm bài tập đầy đủ\n",
      "Em hứa làm bài tập đầy đủ\n",
      "Em hứa làm bài tập đầy đủ\n",
      "Em hứa làm bài tập đầy đủ\n",
      "\n"
     ]
    }
   ],
   "source": [
    "#Lặp laị chuỗi:\n",
    "chep_phat = \"Em hứa làm bài tập đầy đủ\\n\"  #(\\n) dùng để xuống dòng\n",
    "chep_phat_10 = chep_phat *10 #muốn lặp lại thì nhân cho số lượng\n",
    "print(chep_phat_10)"
   ]
  },
  {
   "cell_type": "code",
   "execution_count": 9,
   "id": "85a89d38-8925-4056-8761-b59d86a80e52",
   "metadata": {},
   "outputs": [
    {
     "name": "stdout",
     "output_type": "stream",
     "text": [
      "chuỗi 2 là chuỗi con của chuỗi 1\n",
      "chuỗi 3 không là chuỗi con của chuỗi 1\n"
     ]
    }
   ],
   "source": [
    "#kiểm tra chuỗi có chứa nhau hay không\n",
    "chuoi_1 = \"Xin chào tôi\"\n",
    "chuoi_2 = \"tôi\"\n",
    "chuoi_3 = \"VN\"\n",
    "\n",
    "if chuoi_2 in chuoi_1:\n",
    "    print(\"chuỗi 2 là chuỗi con của chuỗi 1\")\n",
    "else:\n",
    "    print(\"chuỗi 2 không là chuỗi con của chuỗi 1\")\n",
    "\n",
    "if chuoi_3 in chuoi_1:\n",
    "    print(\"chuỗi 3 là chuỗi con của chuỗi 1\")\n",
    "else:\n",
    "    print(\"chuỗi 3 không là chuỗi con của chuỗi 1\")"
   ]
  },
  {
   "cell_type": "code",
   "execution_count": 11,
   "id": "beb39160-9e7c-41ba-be3f-28cf93f64efb",
   "metadata": {},
   "outputs": [
    {
     "name": "stdout",
     "output_type": "stream",
     "text": [
      "Hôm nay trời đẹp quá !\n"
     ]
    }
   ],
   "source": [
    "#Viết hoa chữ đầu của chuỗi\n",
    "s = \"hôm nay trời đẹp quá !\"\n",
    "s = str.capitalize(s)\n",
    "print(s)"
   ]
  },
  {
   "cell_type": "code",
   "execution_count": 13,
   "id": "5f32b150-cbb2-4635-95ab-43faba6635f9",
   "metadata": {},
   "outputs": [
    {
     "name": "stdout",
     "output_type": "stream",
     "text": [
      "HÔM NAY TRỜI ĐẸP QUÁ !\n"
     ]
    }
   ],
   "source": [
    "#Viết hoa toàn bộ chuỗi\n",
    "s = \"hôm nay trời đẹp quá !\"\n",
    "s = s.upper()\n",
    "print(s)"
   ]
  },
  {
   "cell_type": "code",
   "execution_count": 14,
   "id": "9577a37c-44f3-4ee7-9ec7-7f7f1c3f5043",
   "metadata": {},
   "outputs": [
    {
     "name": "stdout",
     "output_type": "stream",
     "text": [
      "hôm nay trời đẹp quá !\n"
     ]
    }
   ],
   "source": [
    "#Viết thường toàn bộ chuỗi\n",
    "s = s.lower()\n",
    "print(s)"
   ]
  },
  {
   "cell_type": "code",
   "execution_count": 16,
   "id": "67bf537b-22d9-44a5-a03f-8a9956ac78a9",
   "metadata": {},
   "outputs": [
    {
     "name": "stdout",
     "output_type": "stream",
     "text": [
      "-1\n"
     ]
    }
   ],
   "source": [
    "#Tìm và đếm số lượng chuỗi con nhưng không tìm thấy thì trả về -1\n",
    "s = \"Lập trình Python là xu hướng hiện nay. Bạn nên học lập trình Python\"\n",
    "print(s.find(\"PythonX\"))"
   ]
  },
  {
   "cell_type": "code",
   "execution_count": 18,
   "id": "8b46418a-e823-4586-890d-41d38f2f040e",
   "metadata": {},
   "outputs": [
    {
     "name": "stdout",
     "output_type": "stream",
     "text": [
      "10\n",
      "2\n"
     ]
    }
   ],
   "source": [
    "#Tìm và đếm số lượng chuỗi con\n",
    "s = \"Lập trình Python là xu hướng hiện nay. Bạn nên học lập trình Python\"\n",
    "print(s.find(\"Python\"))\n",
    "print(s.count(\"Python\"))"
   ]
  },
  {
   "cell_type": "code",
   "execution_count": 19,
   "id": "da20b04f-f588-4397-9d64-668c06b34a64",
   "metadata": {},
   "outputs": [
    {
     "name": "stdout",
     "output_type": "stream",
     "text": [
      "Lập trình PYTHON là xu hướng hiện nay. Bạn nên học lập trình PYTHON\n"
     ]
    }
   ],
   "source": [
    "#Hàm thay thế\n",
    "s = \"Lập trình Python là xu hướng hiện nay. Bạn nên học lập trình Python\"\n",
    "s = s.replace(\"Python\", \"PYTHON\")\n",
    "print(s)"
   ]
  },
  {
   "cell_type": "code",
   "execution_count": 21,
   "id": "2d236014-102c-4ac8-8a0c-631015d9901a",
   "metadata": {},
   "outputs": [
    {
     "name": "stdout",
     "output_type": "stream",
     "text": [
      "['Lập', 'trình', 'Python', 'là', 'xu', 'hướng', 'hiện', 'nay.', 'Bạn', 'nên', 'học', 'lập', 'trình', 'Python']\n"
     ]
    }
   ],
   "source": [
    "#Cắt chuỗi thành một LIST\n",
    "s = \"Lập trình Python là xu hướng hiện nay. Bạn nên học lập trình Python\"\n",
    "list1 = s.split(\" \")\n",
    "print(list1)"
   ]
  },
  {
   "cell_type": "code",
   "execution_count": 24,
   "id": "5993d7b3-a6d8-4505-a7af-4cf6f54a14ff",
   "metadata": {},
   "outputs": [
    {
     "name": "stdout",
     "output_type": "stream",
     "text": [
      "1+2=3\n"
     ]
    }
   ],
   "source": [
    "#format\n",
    "print(\"{0}+{1}={2}\".format(1,2, 1+2))"
   ]
  },
  {
   "cell_type": "code",
   "execution_count": 25,
   "id": "64525435-2d09-4f3c-9aca-4a90110ffe73",
   "metadata": {},
   "outputs": [
    {
     "name": "stdout",
     "output_type": "stream",
     "text": [
      "Lập trình \n"
     ]
    }
   ],
   "source": [
    "#lấy chuỗi con\n",
    "print(s[0:10])"
   ]
  },
  {
   "cell_type": "code",
   "execution_count": null,
   "id": "a42b27a4-b73a-4ff8-b0fb-8e3e36b40af5",
   "metadata": {},
   "outputs": [],
   "source": []
  }
 ],
 "metadata": {
  "kernelspec": {
   "display_name": "Python 3 (ipykernel)",
   "language": "python",
   "name": "python3"
  },
  "language_info": {
   "codemirror_mode": {
    "name": "ipython",
    "version": 3
   },
   "file_extension": ".py",
   "mimetype": "text/x-python",
   "name": "python",
   "nbconvert_exporter": "python",
   "pygments_lexer": "ipython3",
   "version": "3.11.7"
  }
 },
 "nbformat": 4,
 "nbformat_minor": 5
}

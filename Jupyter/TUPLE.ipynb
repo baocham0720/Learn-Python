{
 "cells": [
  {
   "cell_type": "markdown",
   "id": "2f223a33-5005-4866-96e4-7333047668fd",
   "metadata": {},
   "source": [
    "TUPLE DATATYPE"
   ]
  },
  {
   "cell_type": "code",
   "execution_count": 2,
   "id": "5f90e2f0-4e1d-443e-b228-4f5197602686",
   "metadata": {},
   "outputs": [],
   "source": [
    "#Khai báo tuple : ()"
   ]
  },
  {
   "cell_type": "code",
   "execution_count": 3,
   "id": "e8f2ee5e-6076-422e-b4bb-95c47967ff1c",
   "metadata": {},
   "outputs": [],
   "source": [
    "gioitinh = (\"Nam\", \"Nữ\")"
   ]
  },
  {
   "cell_type": "code",
   "execution_count": 4,
   "id": "9dd66176-5ca8-4a62-aaf1-16e3b736602b",
   "metadata": {},
   "outputs": [],
   "source": [
    "lophoc = (1, 2, 3 ,4, 5, 6, 7, 8, 9, 10)"
   ]
  },
  {
   "cell_type": "code",
   "execution_count": 5,
   "id": "d327191c-ef7f-49cc-9d33-36e87d898414",
   "metadata": {},
   "outputs": [],
   "source": [
    "traicay = (\"Táo\", \"Xoài\", \"Chuối\")"
   ]
  },
  {
   "cell_type": "code",
   "execution_count": 8,
   "id": "6409a3af-6e57-409e-a8a7-4a677b0d6135",
   "metadata": {},
   "outputs": [
    {
     "name": "stdout",
     "output_type": "stream",
     "text": [
      "Nam\n",
      "7\n",
      "Chuối\n"
     ]
    }
   ],
   "source": [
    "#Các thao tác với tuple\n",
    "print(gioitinh[0])\n",
    "print(lophoc[6])\n",
    "print(traicay[2])"
   ]
  },
  {
   "cell_type": "code",
   "execution_count": 9,
   "id": "fdb03fc8-afa3-4dfe-ae1d-ce8d125785b5",
   "metadata": {},
   "outputs": [
    {
     "ename": "TypeError",
     "evalue": "'tuple' object does not support item assignment",
     "output_type": "error",
     "traceback": [
      "\u001b[0;31m---------------------------------------------------------------------------\u001b[0m",
      "\u001b[0;31mTypeError\u001b[0m                                 Traceback (most recent call last)",
      "Cell \u001b[0;32mIn[9], line 2\u001b[0m\n\u001b[1;32m      1\u001b[0m \u001b[38;5;66;03m#Lưu ý: gái trị phần tử tuple không thể thay đổi, sẽ báo lỗi\u001b[39;00m\n\u001b[0;32m----> 2\u001b[0m lophoc[\u001b[38;5;241m0\u001b[39m] \u001b[38;5;241m=\u001b[39m \u001b[38;5;241m12\u001b[39m\n",
      "\u001b[0;31mTypeError\u001b[0m: 'tuple' object does not support item assignment"
     ]
    }
   ],
   "source": [
    "#Lưu ý: gái trị phần tử tuple không thể thay đổi, sẽ báo lỗi\n",
    "lophoc[0] = 12"
   ]
  },
  {
   "cell_type": "code",
   "execution_count": 10,
   "id": "aaf82818-150f-4c4f-9ac4-3e6f580a23b3",
   "metadata": {},
   "outputs": [
    {
     "name": "stdout",
     "output_type": "stream",
     "text": [
      "Táo\n",
      "Xoài\n",
      "Chuối\n"
     ]
    }
   ],
   "source": [
    "#Duyệt những phần tử của tuple\n",
    "for x in traicay:\n",
    "    print(x)"
   ]
  },
  {
   "cell_type": "code",
   "execution_count": 11,
   "id": "6185df98-539c-461c-9429-c441a2702534",
   "metadata": {},
   "outputs": [
    {
     "name": "stdout",
     "output_type": "stream",
     "text": [
      "(1, 2, 3, 4, 5, 6)\n"
     ]
    }
   ],
   "source": [
    "#Cộng 2 tuple\n",
    "y = (1, 2, 3) + (4, 5, 6)\n",
    "print(y)"
   ]
  },
  {
   "cell_type": "code",
   "execution_count": 12,
   "id": "58a7de69-bd85-4b49-96af-d4a3fcd29c4a",
   "metadata": {},
   "outputs": [
    {
     "name": "stdout",
     "output_type": "stream",
     "text": [
      "(1, 2, 3, 1, 2, 3)\n"
     ]
    }
   ],
   "source": [
    "#Nhân 2 tuple\n",
    "y = (1, 2, 3)*2\n",
    "print(y)"
   ]
  },
  {
   "cell_type": "code",
   "execution_count": 13,
   "id": "4d03e26e-fa6a-416d-89aa-c319627a7690",
   "metadata": {},
   "outputs": [
    {
     "name": "stdout",
     "output_type": "stream",
     "text": [
      "True\n"
     ]
    }
   ],
   "source": [
    "#từ khoá in : kiểm tra phần tử có tồn tại trong tuple\n",
    "print(\"Táo\" in traicay)"
   ]
  },
  {
   "cell_type": "code",
   "execution_count": 18,
   "id": "b0e414d5-89e0-4eef-8cbe-6fe50e87bfc3",
   "metadata": {},
   "outputs": [
    {
     "name": "stdout",
     "output_type": "stream",
     "text": [
      "False\n"
     ]
    }
   ],
   "source": [
    "#từ khoá in : kiểm tra phần tử có tồn tại trong tuple\n",
    "print(\"Bom\" in traicay)"
   ]
  },
  {
   "cell_type": "code",
   "execution_count": 14,
   "id": "d63bd1ef-c20a-4ae2-a7fb-00aec40e48f2",
   "metadata": {},
   "outputs": [
    {
     "name": "stdout",
     "output_type": "stream",
     "text": [
      "3\n"
     ]
    }
   ],
   "source": [
    "#từ khoá len : Lấy số lượng phần tử của tuple\n",
    "x = len(traicay)\n",
    "print(x)"
   ]
  },
  {
   "cell_type": "code",
   "execution_count": 15,
   "id": "a33b50a7-401e-4732-8a9d-c0de8dc1dcbe",
   "metadata": {},
   "outputs": [
    {
     "name": "stdout",
     "output_type": "stream",
     "text": [
      "1\n"
     ]
    }
   ],
   "source": [
    "#từ khoá count: đếm số lượt xuất hiện\n",
    "print(traicay.count(\"Táo\"))"
   ]
  },
  {
   "cell_type": "code",
   "execution_count": 19,
   "id": "341b5b75-f0e7-42fd-8e59-d284cb279bd8",
   "metadata": {},
   "outputs": [
    {
     "name": "stdout",
     "output_type": "stream",
     "text": [
      "0\n"
     ]
    }
   ],
   "source": [
    "#từ khoá count: đếm số lượt xuất hiện\n",
    "print(traicay.count(\"Bom\"))"
   ]
  },
  {
   "cell_type": "code",
   "execution_count": 16,
   "id": "982d25ea-932c-423f-925c-01c6849ac958",
   "metadata": {},
   "outputs": [
    {
     "name": "stdout",
     "output_type": "stream",
     "text": [
      "Nam\n",
      "Xoài\n",
      "55\n"
     ]
    }
   ],
   "source": [
    "#Tìm min - max trong tuple\n",
    "print(min(gioitinh))\n",
    "print(max(traicay))\n",
    "print(sum(lophoc))"
   ]
  },
  {
   "cell_type": "code",
   "execution_count": 20,
   "id": "e7b7171f-b410-446f-814b-1f1559a31871",
   "metadata": {},
   "outputs": [
    {
     "name": "stdout",
     "output_type": "stream",
     "text": [
      "Nam\n",
      "Xoài\n",
      "1\n",
      "10\n",
      "55\n"
     ]
    }
   ],
   "source": [
    "#Tìm min - max trong tuple\n",
    "print(min(gioitinh))\n",
    "print(max(traicay))\n",
    "print(min(lophoc))\n",
    "print(max(lophoc))\n",
    "print(sum(lophoc))"
   ]
  },
  {
   "cell_type": "code",
   "execution_count": 17,
   "id": "f775c222-8dc4-430c-ae63-eecd2e1bcf1c",
   "metadata": {},
   "outputs": [
    {
     "name": "stdout",
     "output_type": "stream",
     "text": [
      "['Chuối', 'Táo', 'Xoài']\n"
     ]
    }
   ],
   "source": [
    "#từ khoá sorted : sắp xếp tuple và chuyển về list\n",
    "listTC = sorted(traicay)\n",
    "print(listTC)"
   ]
  },
  {
   "cell_type": "code",
   "execution_count": null,
   "id": "f80babd1-12e0-43a3-a87e-b8ad1848b96c",
   "metadata": {},
   "outputs": [],
   "source": []
  }
 ],
 "metadata": {
  "kernelspec": {
   "display_name": "Python 3 (ipykernel)",
   "language": "python",
   "name": "python3"
  },
  "language_info": {
   "codemirror_mode": {
    "name": "ipython",
    "version": 3
   },
   "file_extension": ".py",
   "mimetype": "text/x-python",
   "name": "python",
   "nbconvert_exporter": "python",
   "pygments_lexer": "ipython3",
   "version": "3.11.7"
  }
 },
 "nbformat": 4,
 "nbformat_minor": 5
}

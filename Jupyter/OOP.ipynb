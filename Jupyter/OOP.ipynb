{
 "cells": [
  {
   "cell_type": "markdown",
   "id": "5ddecbdf-ce36-4ce9-abd8-d93eda4f4b67",
   "metadata": {},
   "source": [
    "GIỚI THIỆU VỀ LẬP TRÌNH HƯỚNG ĐỐI TƯỢNG và PHÂN BIỆT:\n",
    "1. Method\n",
    "2. Static Method "
   ]
  },
  {
   "cell_type": "markdown",
   "id": "82d33506-9902-4b05-a5e0-bc55a4fcd6e6",
   "metadata": {},
   "source": [
    "LỚP, ĐỐI TƯỢNG, THUỘC TÍNH VÀ PHƯƠNG THỨC:\n",
    "1. Object\n",
    "2. Class\n",
    "3. Method\n",
    "4. Inheritance\n",
    "5. Polymorphism\n",
    "6. Encapsulation\n",
    "7. Data Abstraction\n"
   ]
  },
  {
   "cell_type": "code",
   "execution_count": 2,
   "id": "51f86a17-c9d0-4fa9-98ff-ca8aaf7fb6ad",
   "metadata": {},
   "outputs": [],
   "source": [
    "class SimpleClass:\n",
    "    #class attribute : khai báo ra những biến\n",
    "    i = 3\n",
    "    \n",
    "    #hàm __init__ : \n",
    "    def __init__(self):\n",
    "        self.j = 7  #self. : là lấy ra những thông tin khai báo trong thuộc tính\n",
    "        \n",
    "    #method:\n",
    "    def printMe(self):\n",
    "        print(self.j)\n",
    "        "
   ]
  },
  {
   "cell_type": "code",
   "execution_count": 3,
   "id": "3742aded-9e8b-4395-92aa-733a3eb818ae",
   "metadata": {},
   "outputs": [
    {
     "name": "stdout",
     "output_type": "stream",
     "text": [
      "7\n",
      "3\n"
     ]
    }
   ],
   "source": [
    "objectA = SimpleClass()\n",
    "objectB = SimpleClass()\n",
    "\n",
    "objectA.printMe()\n",
    "print(objectB.i)"
   ]
  },
  {
   "cell_type": "code",
   "execution_count": 4,
   "id": "af2b32ef-c232-45ee-9da0-01e02d7ee19e",
   "metadata": {},
   "outputs": [
    {
     "name": "stdout",
     "output_type": "stream",
     "text": [
      "100\n",
      "500\n"
     ]
    }
   ],
   "source": [
    "#Thay đổi giá trị của thuộc tính:\n",
    "objectA.i = 100\n",
    "print(objectA.i)\n",
    "objectB.j = 500\n",
    "objectB.printMe()"
   ]
  },
  {
   "cell_type": "code",
   "execution_count": 5,
   "id": "347d9020-42a2-4134-9a4a-fd35f81f8afb",
   "metadata": {},
   "outputs": [
    {
     "ename": "TypeError",
     "evalue": "SimpleClass.printMe() missing 1 required positional argument: 'self'",
     "output_type": "error",
     "traceback": [
      "\u001b[0;31m---------------------------------------------------------------------------\u001b[0m",
      "\u001b[0;31mTypeError\u001b[0m                                 Traceback (most recent call last)",
      "Cell \u001b[0;32mIn[5], line 2\u001b[0m\n\u001b[1;32m      1\u001b[0m \u001b[38;5;66;03m#Truy cập phương thức không phải static\u001b[39;00m\n\u001b[0;32m----> 2\u001b[0m SimpleClass\u001b[38;5;241m.\u001b[39mprintMe()\n",
      "\u001b[0;31mTypeError\u001b[0m: SimpleClass.printMe() missing 1 required positional argument: 'self'"
     ]
    }
   ],
   "source": [
    "#Truy cập phương thức không phải static\n",
    "SimpleClass.printMe()\n",
    "#sẽ báo lỗi vì không được khai báo như vậy"
   ]
  },
  {
   "cell_type": "code",
   "execution_count": 6,
   "id": "cff54390-31dd-442c-8c71-b3193e6855b7",
   "metadata": {},
   "outputs": [],
   "source": [
    "#static method\n",
    "class SimpleClass2:\n",
    "    \n",
    "    #constructor\n",
    "    def __init__(self):\n",
    "        self.name = \"Tùng\"\n",
    "        \n",
    "    #method\n",
    "    def hello(self):\n",
    "        print(\"Hello \" + self.name)\n",
    "        \n",
    "    #static methods\n",
    "    @staticmethod\n",
    "    def hi(name):\n",
    "        print(\"Hi \" + name)"
   ]
  },
  {
   "cell_type": "code",
   "execution_count": 7,
   "id": "df2ebf6f-d934-4647-9d63-0e3fd4556d6e",
   "metadata": {},
   "outputs": [
    {
     "name": "stdout",
     "output_type": "stream",
     "text": [
      "Hello Tùng\n",
      "Hi Peter\n"
     ]
    }
   ],
   "source": [
    "objectC = SimpleClass2()\n",
    "objectD = SimpleClass2()\n",
    "\n",
    "objectC.hello()\n",
    "objectC.hi(\"Peter\")"
   ]
  },
  {
   "cell_type": "markdown",
   "id": "aa415e2d-78cc-47e1-aab5-de33469f1694",
   "metadata": {},
   "source": [
    "BÀI TẬP VỀ LẬP TRÌNH HƯỚNG ĐỐI TƯỢNG (OOP)"
   ]
  },
  {
   "cell_type": "markdown",
   "id": "7c26cdca-ebc3-4ed9-b405-c47ab1c6e356",
   "metadata": {},
   "source": [
    "Bài 1: \n",
    "1. Xây dựng class Ngay, thuộc tính gồm : ngày, tháng, năm\n",
    "2. Xây dựng các phương thức:\n",
    "3. Cho biết đó là ngày thứ bao nhiêu trong năm\n",
    "4. Staticmethod : cho biết tháng đó có bao nhiêu ngày"
   ]
  },
  {
   "cell_type": "code",
   "execution_count": 13,
   "id": "a85e42e9-ea86-4e02-ac94-9d4cf7ab9fa7",
   "metadata": {},
   "outputs": [],
   "source": [
    "class Ngay:\n",
    "    #constructor\n",
    "    def __init__(self, giatri_ngay, giatri_thang, giatri_nam):\n",
    "        self.ngay = giatri_ngay\n",
    "        self.thang = giatri_thang\n",
    "        self.nam = giatri_nam\n",
    "        \n",
    "    #Xác định số ngày của tháng\n",
    "    @staticmethod\n",
    "    def soNgayCuaThang(thang, nam):\n",
    "        if(thang in [1,3,5,7,8,10,12]):\n",
    "            return 31\n",
    "        elif(thang in [4,6,9,11]):\n",
    "            return 30\n",
    "        elif(thang==2):\n",
    "            if(nam%400==0 or (nam%4==0 and nam%100!=0)):\n",
    "                return 29\n",
    "            else:\n",
    "                return 28\n",
    "            \n",
    "    #15/03/2022:\n",
    "    #tháng 1: 31 ngày\n",
    "    #tháng 2: 28 ngày\n",
    "    #31+28+15 = ? (ngày thứ bao nhiêu trong năm)\n",
    "    \n",
    "    def ngayTrongNam(self):\n",
    "        giatri_ngayTrongNam = 0\n",
    "        \n",
    "        #Tính tổng số lượng ngày của những tháng trước\n",
    "        for x in range(1, self.thang):\n",
    "            giatri_ngayTrongNam += self.soNgayCuaThang(x, self.nam)\n",
    "\n",
    "        #Cộng thêm số ngày của tháng hiện tại\n",
    "        giatri_ngayTrongNam += self.ngay\n",
    "\n",
    "        #Trả kết quả\n",
    "        return giatri_ngayTrongNam\n",
    "            \n",
    "    "
   ]
  },
  {
   "cell_type": "code",
   "execution_count": 15,
   "id": "15812d40-e994-42f7-83a8-dda0b3a8462c",
   "metadata": {},
   "outputs": [
    {
     "name": "stdout",
     "output_type": "stream",
     "text": [
      "74\n",
      "15\n"
     ]
    }
   ],
   "source": [
    "ngayA = Ngay(15, 3, 2022)\n",
    "print(ngayA.ngayTrongNam())\n",
    "\n",
    "ngayB = Ngay(15, 1, 2022)\n",
    "print(ngayB.ngayTrongNam())"
   ]
  },
  {
   "cell_type": "code",
   "execution_count": null,
   "id": "4f867a57-6ac7-476c-b3d1-a533dd170c99",
   "metadata": {},
   "outputs": [],
   "source": []
  }
 ],
 "metadata": {
  "kernelspec": {
   "display_name": "Python 3 (ipykernel)",
   "language": "python",
   "name": "python3"
  },
  "language_info": {
   "codemirror_mode": {
    "name": "ipython",
    "version": 3
   },
   "file_extension": ".py",
   "mimetype": "text/x-python",
   "name": "python",
   "nbconvert_exporter": "python",
   "pygments_lexer": "ipython3",
   "version": "3.11.7"
  }
 },
 "nbformat": 4,
 "nbformat_minor": 5
}

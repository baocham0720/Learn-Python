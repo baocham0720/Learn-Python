{
 "cells": [
  {
   "cell_type": "markdown",
   "id": "d6a2b1e6-114d-4cad-bb6e-883b7c51a6af",
   "metadata": {},
   "source": [
    "KẾ THỪA TRONG PYTHON"
   ]
  },
  {
   "cell_type": "code",
   "execution_count": 11,
   "id": "26cb8414-db72-4eca-8c4c-5f324c7242f8",
   "metadata": {},
   "outputs": [],
   "source": [
    "#EX: Bài tập về động vật\n",
    "#Xây dựng class \"cha\" :\n",
    "class Animal:\n",
    "    #constructor: xây dựng ra đối tượng\n",
    "    def __init__(self, animalTypeA, nameA, widthA, heightA, weightA):\n",
    "        self.animalType = animalTypeA\n",
    "        self.name = nameA\n",
    "        self.width = widthA\n",
    "        self.height = heightA\n",
    "        self.weight = weightA\n",
    "\n",
    "    #Phát ra tiếng kêu, âm thanh:\n",
    "    def makeVoice(self):\n",
    "        print(\"Unknow voice\")\n",
    "\n",
    "    #In thông tin:\n",
    "    def printMe(self):\n",
    "        print(\"animalType: {0}, name={1}, width={2}, height={3}, weight={4}\".format(self.animalType, self.name, self.width, self.height, self.weight))"
   ]
  },
  {
   "cell_type": "code",
   "execution_count": 12,
   "id": "fb50b5b5-c0ac-4261-b720-a2591e0cbe32",
   "metadata": {},
   "outputs": [
    {
     "name": "stdout",
     "output_type": "stream",
     "text": [
      "animalType: Con người, name=Nguyễn Văn A, width=, height=170cm, weight=60kg\n",
      "Unknow voice\n"
     ]
    }
   ],
   "source": [
    "a1 = Animal(\"Con người\", \"Nguyễn Văn A\", \"\", \"170cm\", \"60kg\")\n",
    "a1.printMe()\n",
    "a1.makeVoice()"
   ]
  },
  {
   "cell_type": "code",
   "execution_count": 20,
   "id": "5dbf249d-fcb4-4f4a-9567-a577e642d425",
   "metadata": {},
   "outputs": [],
   "source": [
    "class Dog(Animal):\n",
    "    #constructor của lớp con:\n",
    "    def __init__(self, nameA, widthA, heightA, weightA, isChampionA):\n",
    "        #Gọi constructor của lớp cha:\n",
    "        Animal.__init__(self, \"Dog\", nameA, widthA, heightA, weightA)\n",
    "        #gán giá trị cho các thuộc tính bổ sung\n",
    "        self.isChampion = isChampionA\n",
    "        \n",
    "    #override method\n",
    "    def makeVoice(self):\n",
    "        print(\"{0}: gau gau\".format(self.name))\n",
    "\n",
    "    def takeCareHome(self):\n",
    "        print(\"{0}: zzzzZZZZ\".format(self.name))"
   ]
  },
  {
   "cell_type": "code",
   "execution_count": 22,
   "id": "ebd3bd35-d374-4cb1-a31d-0c44ca1e87b3",
   "metadata": {},
   "outputs": [
    {
     "name": "stdout",
     "output_type": "stream",
     "text": [
      "cậu vàng: zzzzZZZZ\n",
      "cậu vàng: gau gau\n",
      "animalType: Dog, name=cậu vàng, width=80cm, height=40cm, weight=20kg\n",
      "Mật: gau gau\n",
      "animalType: Dog, name=Mật, width=150cm, height=100cm, weight=50kg\n"
     ]
    }
   ],
   "source": [
    "dog1 = Dog(\"cậu vàng\", \"80cm\", \"40cm\", \"20kg\", True)\n",
    "dog2 = Dog(\"Mật\", \"150cm\", \"100cm\", \"50kg\", True)\n",
    "dog1.takeCareHome()\n",
    "dog1.makeVoice()\n",
    "dog1.printMe()\n",
    "dog2.makeVoice()\n",
    "dog2.printMe()"
   ]
  },
  {
   "cell_type": "code",
   "execution_count": 18,
   "id": "f6a07791-22a3-402b-91f2-1e9394955325",
   "metadata": {},
   "outputs": [],
   "source": [
    "class Cat(Animal):\n",
    "    def __init__(self, nameA, widthA, heightA, weightA, colorA):\n",
    "        Animal.__init__(self, \"Cat\", nameA, widthA, heightA, weightA)\n",
    "        self.color = colorA\n",
    "\n",
    "    def makeVoice(self):\n",
    "        print(\"{0}: meow meow\". format(self.name))"
   ]
  },
  {
   "cell_type": "code",
   "execution_count": 19,
   "id": "2f8761be-02df-4d88-bbc5-73e930b97039",
   "metadata": {},
   "outputs": [
    {
     "name": "stdout",
     "output_type": "stream",
     "text": [
      "Mimi: meow meow\n",
      "animalType: Cat, name=Mimi, width=30cm, height=10cm, weight=3kg\n",
      "Tom: meow meow\n",
      "animalType: Cat, name=Tom, width=80cm, height=30cm, weight=10kg\n"
     ]
    }
   ],
   "source": [
    "cat1 = Cat(\"Mimi\", \"30cm\", \"10cm\", \"3kg\", \"Yellow\")\n",
    "cat2 = Cat(\"Tom\", \"80cm\", \"30cm\", \"10kg\", \"Blue\")\n",
    "cat1.makeVoice()\n",
    "cat1.printMe()\n",
    "cat2.makeVoice()\n",
    "cat2.printMe()"
   ]
  },
  {
   "cell_type": "markdown",
   "id": "e0274158-fd63-4035-9661-2c343082044b",
   "metadata": {},
   "source": [
    "--------------@-------------------"
   ]
  },
  {
   "cell_type": "markdown",
   "id": "73e6bf28-8747-44dd-ab01-7b1eb21cbb8b",
   "metadata": {},
   "source": [
    "CÁCH SỬ DỤNG TRY EXCEPT"
   ]
  },
  {
   "cell_type": "code",
   "execution_count": 25,
   "id": "ea007fca-2c59-4486-a70d-c0de006ec176",
   "metadata": {},
   "outputs": [
    {
     "name": "stdin",
     "output_type": "stream",
     "text": [
      "Nhập vào số nguyên a:  6\n"
     ]
    },
    {
     "name": "stdout",
     "output_type": "stream",
     "text": [
      "6 + 5 =11\n"
     ]
    }
   ],
   "source": [
    "a = int(input(\"Nhập vào số nguyên a: \"))\n",
    "print(str(a) + \" + 5 =\" + str(a+5))"
   ]
  },
  {
   "cell_type": "markdown",
   "id": "e7ea4065-67f9-40bd-b8d0-a952c156a2fb",
   "metadata": {},
   "source": [
    "try:\n",
    "    #Đoạn code dự đoán lỗi\n",
    "except:\n",
    "    #Hành động khi xảy ra lỗi\n",
    "else:\n",
    "    #Thực thi đoạn này nếu như mã không có lỗi\n",
    "finally:\n",
    "    #Cho phép thực thi mã, bất kì kết quả của các khối try có bị lỗi hay không"
   ]
  },
  {
   "cell_type": "code",
   "execution_count": 29,
   "id": "f81f9e9f-b5ba-4b0e-aa1b-d4cc73cd953f",
   "metadata": {},
   "outputs": [
    {
     "name": "stdin",
     "output_type": "stream",
     "text": [
      "Nhập vào số nguyên a:  số năm\n"
     ]
    },
    {
     "name": "stdout",
     "output_type": "stream",
     "text": [
      "Nhập dữ liệu không chính xác!\n"
     ]
    }
   ],
   "source": [
    "try: \n",
    "    a = int(input(\"Nhập vào số nguyên a: \"))\n",
    "    print(str(a) + \" + 5 =\" + str(a+5))\n",
    "except:\n",
    "    print(\"Nhập dữ liệu không chính xác!\")"
   ]
  },
  {
   "cell_type": "code",
   "execution_count": 31,
   "id": "adac0451-41be-4f6e-a756-786a5a20c1af",
   "metadata": {},
   "outputs": [
    {
     "name": "stdin",
     "output_type": "stream",
     "text": [
      "Nhập vào số nguyên a:  số năm\n"
     ]
    },
    {
     "name": "stdout",
     "output_type": "stream",
     "text": [
      "invalid literal for int() with base 10: 'số năm'\n"
     ]
    }
   ],
   "source": [
    "try: \n",
    "    a = int(input(\"Nhập vào số nguyên a: \"))\n",
    "    print(str(a) + \" + 5 =\" + str(a+5))\n",
    "except Exception as e: #thông báo ra lỗi cụ thể\n",
    "    print(e)"
   ]
  },
  {
   "cell_type": "code",
   "execution_count": 32,
   "id": "5f67e755-1e0d-4199-8eed-2f9f7b39ac62",
   "metadata": {},
   "outputs": [
    {
     "name": "stdin",
     "output_type": "stream",
     "text": [
      "Nhập vào số nguyên a:  5\n"
     ]
    },
    {
     "name": "stdout",
     "output_type": "stream",
     "text": [
      "5 + 5 =10\n",
      "Không có lỗi xảy ra\n",
      "Kết thúc chương trình\n"
     ]
    }
   ],
   "source": [
    "try: \n",
    "    a = int(input(\"Nhập vào số nguyên a: \"))\n",
    "    print(str(a) + \" + 5 =\" + str(a+5))\n",
    "except Exception as e: #thông báo ra lỗi cụ thể\n",
    "    print(e)\n",
    "else:\n",
    "    print(\"Không có lỗi xảy ra\")\n",
    "finally:\n",
    "    print(\"Kết thúc chương trình\")"
   ]
  },
  {
   "cell_type": "code",
   "execution_count": 33,
   "id": "be821b50-ed09-4406-9ecd-25118d820757",
   "metadata": {},
   "outputs": [
    {
     "name": "stdin",
     "output_type": "stream",
     "text": [
      "Nhập vào số nguyên a:  số năm\n"
     ]
    },
    {
     "name": "stdout",
     "output_type": "stream",
     "text": [
      "invalid literal for int() with base 10: 'số năm'\n",
      "Kết thúc chương trình\n"
     ]
    }
   ],
   "source": [
    "try: \n",
    "    a = int(input(\"Nhập vào số nguyên a: \"))\n",
    "    print(str(a) + \" + 5 =\" + str(a+5))\n",
    "except Exception as e: #thông báo ra lỗi cụ thể\n",
    "    print(e)\n",
    "else:\n",
    "    print(\"Không có lỗi xảy ra\")\n",
    "finally:\n",
    "    print(\"Kết thúc chương trình\")"
   ]
  },
  {
   "cell_type": "markdown",
   "id": "566c72f5-7a74-4058-babc-464a59d17232",
   "metadata": {},
   "source": [
    "-------------- @ -----------------"
   ]
  },
  {
   "cell_type": "markdown",
   "id": "cc20d695-f424-483c-b637-0cbcb0cd86f6",
   "metadata": {},
   "source": [
    "FILE TRONG PYTHON"
   ]
  },
  {
   "cell_type": "code",
   "execution_count": 34,
   "id": "9fe1b947-eee8-47c4-85d8-5c5c6787637c",
   "metadata": {},
   "outputs": [],
   "source": [
    "#open() : phương thức tạo file"
   ]
  },
  {
   "cell_type": "code",
   "execution_count": 39,
   "id": "b7ca455d-8642-4f16-853c-1f312159ccd6",
   "metadata": {},
   "outputs": [
    {
     "name": "stdout",
     "output_type": "stream",
     "text": [
      "[Errno 17] File exists: 'Ex1.txt'\n"
     ]
    }
   ],
   "source": [
    "# \"x\" : tạo file\n",
    "try:\n",
    "    f = open(\"Ex1.txt\", \"x\")\n",
    "except Exception as e:\n",
    "    print(e)\n",
    "finally:\n",
    "    f.close()"
   ]
  },
  {
   "cell_type": "code",
   "execution_count": 53,
   "id": "2152ac9c-9c4d-4748-9c01-81e16539326d",
   "metadata": {},
   "outputs": [],
   "source": [
    "# \"w\" : Ghi dữ liệu từ file\n",
    "# \"a\" : nối vào file\n",
    "try:\n",
    "    with open(\"Ex1.txt\", \"w\") as f:\n",
    "        f.write(\"Xin chào các bạn!\\n\")\n",
    "        f.close()\n",
    "except Exception as e:\n",
    "    print(e)"
   ]
  },
  {
   "cell_type": "code",
   "execution_count": 54,
   "id": "131412c3-690e-429e-896e-35cf602646eb",
   "metadata": {},
   "outputs": [],
   "source": [
    "try:\n",
    "    with open(\"Ex1.txt\", \"a\") as f:\n",
    "        f.write(\"Tôi tên là Jimmy\")\n",
    "        f.close()\n",
    "except Exception as e:\n",
    "    print(e)"
   ]
  },
  {
   "cell_type": "code",
   "execution_count": 55,
   "id": "25845d73-51b7-4d46-9547-e5806119cf0a",
   "metadata": {},
   "outputs": [
    {
     "name": "stdout",
     "output_type": "stream",
     "text": [
      "Xin chào các bạn!\n",
      "Tôi tên là Jimmy\n"
     ]
    }
   ],
   "source": [
    "# \"r\" : đọc file\n",
    "try:\n",
    "    with open(\"Ex1.txt\", \"r\") as f:\n",
    "        noidung = f.read()\n",
    "        print(noidung)\n",
    "except Exception as e:\n",
    "    print(e)"
   ]
  },
  {
   "cell_type": "code",
   "execution_count": null,
   "id": "92026ff7-ae2a-4645-82a8-ca5bb4add7f7",
   "metadata": {},
   "outputs": [],
   "source": [
    "# \"r\" : đọc file nhiều dòng, hết file\n",
    "try:\n",
    "    with open(\"Ex1.txt\", \"r\") as f:\n",
    "        list_noidung = f.readlines()\n",
    "        i=1\n",
    "        for noidung \bin list_noidung:\n",
    "            print(str(i) + \":\" + noidung)\n",
    "            i+=1\n",
    "except Exception as e:\n",
    "    print(e)"
   ]
  },
  {
   "cell_type": "code",
   "execution_count": null,
   "id": "8cbbec24-cad2-4f1f-bcaa-a7d71a5a7680",
   "metadata": {},
   "outputs": [],
   "source": [
    "# \"r\" : đọc file 1 đòng\n",
    "try:\n",
    "    with open(\"Ex1.txt\", \"r\") as f:\n",
    "        noidung = f.readlines()\n",
    "        print(noidung)\n",
    "except Exception as e:\n",
    "    print(e)"
   ]
  },
  {
   "cell_type": "code",
   "execution_count": null,
   "id": "69628ea1-7d45-4f98-ad01-75954b587082",
   "metadata": {},
   "outputs": [],
   "source": [
    "#encoding = utf-8 : đọc hoặc ghi file không lỗi font chữ\n",
    "f = open('sample-file.txt',encoding = 'utf-8')\n",
    "f = open('a-new-file.txt',mode='w', encoding = 'utf-8')"
   ]
  },
  {
   "cell_type": "code",
   "execution_count": 58,
   "id": "1adfcc05-f34a-418f-bb02-747e5022dd99",
   "metadata": {},
   "outputs": [],
   "source": [
    "#file có 2 dạng: \n",
    "# \"t\" : text\n",
    "# \"b\" : binary"
   ]
  },
  {
   "cell_type": "code",
   "execution_count": null,
   "id": "039e6ca9-8d04-4ae2-8d76-a255978f9d66",
   "metadata": {},
   "outputs": [],
   "source": []
  }
 ],
 "metadata": {
  "kernelspec": {
   "display_name": "Python 3 (ipykernel)",
   "language": "python",
   "name": "python3"
  },
  "language_info": {
   "codemirror_mode": {
    "name": "ipython",
    "version": 3
   },
   "file_extension": ".py",
   "mimetype": "text/x-python",
   "name": "python",
   "nbconvert_exporter": "python",
   "pygments_lexer": "ipython3",
   "version": "3.11.7"
  }
 },
 "nbformat": 4,
 "nbformat_minor": 5
}

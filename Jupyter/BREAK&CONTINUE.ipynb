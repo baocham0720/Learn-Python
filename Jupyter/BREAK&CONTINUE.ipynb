{
 "cells": [
  {
   "cell_type": "markdown",
   "id": "04246a59-fdf5-409c-9a8c-27957c6c1111",
   "metadata": {},
   "source": [
    "CHUYỂN HỆ THẬP PHÂN QUA NHỊ PHÂN"
   ]
  },
  {
   "cell_type": "code",
   "execution_count": 10,
   "id": "5100534a-7ca0-4b07-9dba-6b96767f0264",
   "metadata": {},
   "outputs": [
    {
     "name": "stdin",
     "output_type": "stream",
     "text": [
      "Nhập vào n:  10\n"
     ]
    },
    {
     "name": "stdout",
     "output_type": "stream",
     "text": [
      "n%2 =  0\n",
      "n =  5\n",
      "n%2 =  1\n",
      "n =  2\n",
      "n%2 =  0\n",
      "n =  1\n",
      "n%2 =  1\n",
      "n =  0\n",
      "Kết quả:  1010\n"
     ]
    }
   ],
   "source": [
    "#Nhập n (n>0)\n",
    "n = -1\n",
    "while (n<=0):\n",
    "    n = int(input(\"Nhập vào n: \"))\n",
    "    \n",
    "#Chuyển từ thập phân sang nhị phân\n",
    "x = n\n",
    "ketqua = \"\"\n",
    "while(n>0):\n",
    "    ketqua = str(n%2) + ketqua\n",
    "    print (\"n%2 = \", n%2)\n",
    "    n = n//2\n",
    "    print (\"n = \", n)\n",
    "print(\"Kết quả: \", ketqua)\n",
    " "
   ]
  },
  {
   "cell_type": "markdown",
   "id": "abbfaa30-ab91-49d8-8822-298336bc5890",
   "metadata": {},
   "source": [
    "Câu lệnh BREAK & CONTINUE"
   ]
  },
  {
   "cell_type": "code",
   "execution_count": 11,
   "id": "21ab8837-f10a-4dd5-88f4-beb472b68973",
   "metadata": {},
   "outputs": [
    {
     "name": "stdout",
     "output_type": "stream",
     "text": [
      "0\n",
      "1\n",
      "2\n",
      "3\n",
      "4\n",
      "5\n",
      "6\n",
      "7\n",
      "8\n",
      "9\n"
     ]
    }
   ],
   "source": [
    "for i in range(0,10):\n",
    "    print(i)"
   ]
  },
  {
   "cell_type": "code",
   "execution_count": 13,
   "id": "fee39371-7576-4cda-a98c-cef6a051a1b0",
   "metadata": {},
   "outputs": [
    {
     "name": "stdout",
     "output_type": "stream",
     "text": [
      "0\n",
      "1\n",
      "2\n",
      "3\n",
      "4\n",
      "5\n",
      "6\n"
     ]
    }
   ],
   "source": [
    "for i in range(0,10):\n",
    "    print(i)\n",
    "    if(i>5):\n",
    "        break"
   ]
  },
  {
   "cell_type": "code",
   "execution_count": 14,
   "id": "95ad2340-4dae-4f41-b4db-3f128b59d043",
   "metadata": {},
   "outputs": [
    {
     "name": "stdout",
     "output_type": "stream",
     "text": [
      "100\n",
      "50\n",
      "25\n",
      "12\n",
      "6\n",
      "3\n",
      "1\n"
     ]
    }
   ],
   "source": [
    "n = 100\n",
    "while (n>0):\n",
    "    print(n)\n",
    "    n = n//2"
   ]
  },
  {
   "cell_type": "code",
   "execution_count": 16,
   "id": "eb93209b-c4f1-4511-8260-a50f1167b1a8",
   "metadata": {},
   "outputs": [
    {
     "name": "stdout",
     "output_type": "stream",
     "text": [
      "100\n",
      "50\n"
     ]
    }
   ],
   "source": [
    "n = 100\n",
    "while (n>0):\n",
    "    print(n)\n",
    "    n = n//2\n",
    "    if(n<50):\n",
    "        break  #break là ngưng luôn vòng lặp"
   ]
  },
  {
   "cell_type": "code",
   "execution_count": 23,
   "id": "dd26b87c-a52e-4340-a685-fcca7b505abf",
   "metadata": {},
   "outputs": [
    {
     "name": "stdout",
     "output_type": "stream",
     "text": [
      "0\n",
      "2\n",
      "4\n",
      "6\n",
      "8\n"
     ]
    }
   ],
   "source": [
    "for i in range(0,10):\n",
    "    if(i%2==1):\n",
    "        continue\n",
    "    print(i)"
   ]
  },
  {
   "cell_type": "markdown",
   "id": "b650aa32-9ff5-4ad9-ab88-198b5c3dc585",
   "metadata": {},
   "source": [
    "#sự khác biệt:\n",
    " continue : bỏ qua phần còn lại khi gặp điều kiện đúng \n",
    "           và tiếp tục thực hiện vòng lặp tiếp theo\n",
    " break : ngưng vòng lặp, ngắt vòng lặp khi thoả mãn điều kiện"
   ]
  },
  {
   "cell_type": "code",
   "execution_count": null,
   "id": "409d3239-2060-450c-87e6-d9d4589e1bd3",
   "metadata": {},
   "outputs": [],
   "source": []
  }
 ],
 "metadata": {
  "kernelspec": {
   "display_name": "Python 3 (ipykernel)",
   "language": "python",
   "name": "python3"
  },
  "language_info": {
   "codemirror_mode": {
    "name": "ipython",
    "version": 3
   },
   "file_extension": ".py",
   "mimetype": "text/x-python",
   "name": "python",
   "nbconvert_exporter": "python",
   "pygments_lexer": "ipython3",
   "version": "3.11.7"
  }
 },
 "nbformat": 4,
 "nbformat_minor": 5
}

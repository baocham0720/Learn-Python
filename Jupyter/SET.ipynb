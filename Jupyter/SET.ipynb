{
 "cells": [
  {
   "cell_type": "markdown",
   "id": "281ab3af-db5d-4106-a653-3106a2bd81a2",
   "metadata": {},
   "source": [
    "SET DATATYPE"
   ]
  },
  {
   "cell_type": "code",
   "execution_count": 2,
   "id": "58137bf3-c0f8-4f81-bcfa-664ca6acf493",
   "metadata": {},
   "outputs": [],
   "source": [
    "#Dùng lưu tập hợp những dữ liệu\n",
    "#SET là tập hợp không có thứ tự, giá trị không được trùng nhau,\n",
    "#không thể thay đổi * và không được lập chỉ mục,\n"
   ]
  },
  {
   "cell_type": "code",
   "execution_count": 3,
   "id": "c11d5a75-091d-4e47-beef-49d82e872cf8",
   "metadata": {},
   "outputs": [],
   "source": [
    "#Sử dụng SET: {}"
   ]
  },
  {
   "cell_type": "code",
   "execution_count": 16,
   "id": "f91dc8ab-95ad-4d12-b50d-78af6c4d56d6",
   "metadata": {},
   "outputs": [
    {
     "name": "stdout",
     "output_type": "stream",
     "text": [
      "{'Hoá', 'Toán', 'Lý'}\n"
     ]
    }
   ],
   "source": [
    "#tạo mới\n",
    "monhoc = {\"Toán\", \"Lý\", \"Hoá\"}\n",
    "print(monhoc)"
   ]
  },
  {
   "cell_type": "code",
   "execution_count": 17,
   "id": "0edc9278-5680-44a8-89a6-88bc57072c0f",
   "metadata": {},
   "outputs": [
    {
     "name": "stdout",
     "output_type": "stream",
     "text": [
      "Hoá\n",
      "Toán\n",
      "Lý\n"
     ]
    }
   ],
   "source": [
    "#Duyệt các phần tử bên trong SET\n",
    "for x in monhoc:\n",
    "    print(x)"
   ]
  },
  {
   "cell_type": "code",
   "execution_count": 18,
   "id": "01b5c20c-ecc6-4b74-84f4-48ac033bbffc",
   "metadata": {},
   "outputs": [
    {
     "name": "stdout",
     "output_type": "stream",
     "text": [
      "{'Hoá', 'Toán', 'Lý', 'lịch sử'}\n"
     ]
    }
   ],
   "source": [
    "#Thêm mới phần tử: add()\n",
    "monhoc.add(\"lịch sử\")\n",
    "print(monhoc)"
   ]
  },
  {
   "cell_type": "code",
   "execution_count": 19,
   "id": "c8b48cce-0dd3-48a8-a7c9-76f4a16907f3",
   "metadata": {},
   "outputs": [
    {
     "name": "stdout",
     "output_type": "stream",
     "text": [
      "{'Hoá', 'lịch sử', 'Toán', 'Lý', 'Anh văn', 'Đàn piaono'}\n"
     ]
    }
   ],
   "source": [
    "#Thêm một tập hợp khác nhiều phần tử: update()\n",
    "hocThem = {\"Anh văn\", \"Đàn piaono\"}\n",
    "monhoc.update(hocThem)\n",
    "print(monhoc)"
   ]
  },
  {
   "cell_type": "code",
   "execution_count": 20,
   "id": "9d59570e-7157-4649-a594-bb65c7011123",
   "metadata": {},
   "outputs": [
    {
     "name": "stdout",
     "output_type": "stream",
     "text": [
      "['Võ Thuật', 'Múa', 'Võ Thuật']\n",
      "{'Hoá', 'Múa', 'lịch sử', 'Võ Thuật', 'Toán', 'Lý', 'Anh văn', 'Đàn piaono'}\n"
     ]
    }
   ],
   "source": [
    "#Thêm list vào SET\n",
    "hocPhuDao = [\"Võ Thuật\", \"Múa\", \"Võ Thuật\"]\n",
    "print(hocPhuDao)\n",
    "\n",
    "monhoc.update(hocPhuDao)\n",
    "print(monhoc)"
   ]
  },
  {
   "cell_type": "code",
   "execution_count": 22,
   "id": "2aa54947-1fd1-4465-9e4e-f5e7daefbe0a",
   "metadata": {},
   "outputs": [
    {
     "ename": "KeyError",
     "evalue": "'Võ Thuật'",
     "output_type": "error",
     "traceback": [
      "\u001b[0;31m---------------------------------------------------------------------------\u001b[0m",
      "\u001b[0;31mKeyError\u001b[0m                                  Traceback (most recent call last)",
      "Cell \u001b[0;32mIn[22], line 2\u001b[0m\n\u001b[1;32m      1\u001b[0m \u001b[38;5;66;03m#Xoá phần tử trong SET\u001b[39;00m\n\u001b[0;32m----> 2\u001b[0m monhoc\u001b[38;5;241m.\u001b[39mremove(\u001b[38;5;124m\"\u001b[39m\u001b[38;5;124mVõ Thuật\u001b[39m\u001b[38;5;124m\"\u001b[39m)\n\u001b[1;32m      3\u001b[0m \u001b[38;5;28mprint\u001b[39m(monhoc)\n",
      "\u001b[0;31mKeyError\u001b[0m: 'Võ Thuật'"
     ]
    }
   ],
   "source": [
    "#Xoá phần tử trong SET\n",
    "monhoc.remove(\"Võ Thuật\")\n",
    "print(monhoc)"
   ]
  },
  {
   "cell_type": "code",
   "execution_count": 23,
   "id": "6422023b-be04-4363-94f5-c683aacc163a",
   "metadata": {},
   "outputs": [
    {
     "name": "stdout",
     "output_type": "stream",
     "text": [
      "{'Hoá', 'Múa', 'lịch sử', 'Lý', 'Anh văn', 'Đàn piaono'}\n"
     ]
    }
   ],
   "source": [
    "#Xoá phần tử : discard là có thì xoá không thì thôi, không phát sinh lỗi\n",
    "monhoc.discard(\"Toán\")\n",
    "print(monhoc)"
   ]
  },
  {
   "cell_type": "code",
   "execution_count": 24,
   "id": "610dfaf7-c7b1-4db8-b539-3c6e24acafa5",
   "metadata": {},
   "outputs": [
    {
     "name": "stdout",
     "output_type": "stream",
     "text": [
      "{'Múa', 'lịch sử', 'Lý', 'Anh văn', 'Đàn piaono'}\n"
     ]
    }
   ],
   "source": [
    "#Xoá phần tử : pop() là lấy phần tử đầu tiên để xoá\n",
    "monhoc.pop()\n",
    "print(monhoc)"
   ]
  },
  {
   "cell_type": "code",
   "execution_count": 25,
   "id": "a22613bd-256a-4dce-bdf9-16150d95a253",
   "metadata": {},
   "outputs": [
    {
     "name": "stdout",
     "output_type": "stream",
     "text": [
      "set()\n"
     ]
    }
   ],
   "source": [
    "#Xoá phần tử: clear là xoá tất cả\n",
    "monhoc.clear()\n",
    "print(monhoc)"
   ]
  },
  {
   "cell_type": "code",
   "execution_count": 26,
   "id": "1412b189-ffe8-4d9a-a790-77d76b2e26a1",
   "metadata": {},
   "outputs": [
    {
     "ename": "SyntaxError",
     "evalue": "invalid syntax (1383725032.py, line 2)",
     "output_type": "error",
     "traceback": [
      "\u001b[0;36m  Cell \u001b[0;32mIn[26], line 2\u001b[0;36m\u001b[0m\n\u001b[0;31m    monhoc.del()\u001b[0m\n\u001b[0m           ^\u001b[0m\n\u001b[0;31mSyntaxError\u001b[0m\u001b[0;31m:\u001b[0m invalid syntax\n"
     ]
    }
   ],
   "source": [
    "#Xoá phần tử: del là xoá hẵn biến và biến không còn tồn tại\n",
    "monhoc.del()\n",
    "print(monhoc)"
   ]
  },
  {
   "cell_type": "code",
   "execution_count": null,
   "id": "f5e686ba-36d4-4702-8528-f9b43c7b073f",
   "metadata": {},
   "outputs": [],
   "source": []
  }
 ],
 "metadata": {
  "kernelspec": {
   "display_name": "Python 3 (ipykernel)",
   "language": "python",
   "name": "python3"
  },
  "language_info": {
   "codemirror_mode": {
    "name": "ipython",
    "version": 3
   },
   "file_extension": ".py",
   "mimetype": "text/x-python",
   "name": "python",
   "nbconvert_exporter": "python",
   "pygments_lexer": "ipython3",
   "version": "3.11.7"
  }
 },
 "nbformat": 4,
 "nbformat_minor": 5
}

{
 "cells": [
  {
   "cell_type": "markdown",
   "id": "59c31389-8989-4930-99cf-3932b2c71e87",
   "metadata": {},
   "source": [
    "FUNCTION TRONG PYTHON :\n",
    "1. Hàm là một khối mã chỉ chạy khi nó được gọi\n",
    "2. Truyền dữ liệu, được gọi là tham số vào một hàm\n",
    "3. Kết quả có thể trả về dữ liệu\n",
    "4. Từ khoá gọi hàm : def"
   ]
  },
  {
   "cell_type": "code",
   "execution_count": 2,
   "id": "38a2c228-a523-49ae-934e-21fece045a17",
   "metadata": {},
   "outputs": [],
   "source": [
    "#Tạo hàm xin chào\n",
    "def xinchao():\n",
    "    print(\"Xin Chào!\")"
   ]
  },
  {
   "cell_type": "code",
   "execution_count": 3,
   "id": "4db986bb-61f0-4d5c-8ab2-1c7198a0be46",
   "metadata": {},
   "outputs": [
    {
     "name": "stdout",
     "output_type": "stream",
     "text": [
      "Xin Chào!\n"
     ]
    }
   ],
   "source": [
    "#Gọi hàm\n",
    "xinchao()"
   ]
  },
  {
   "cell_type": "code",
   "execution_count": 10,
   "id": "2d9431b2-ec84-4b1e-ac06-0c66dd7b2418",
   "metadata": {},
   "outputs": [],
   "source": [
    "#Đối số được đặt trong ()\n",
    "def xinchao(hovaten):\n",
    "    print(\"Xin chào!\" + hovaten)"
   ]
  },
  {
   "cell_type": "code",
   "execution_count": 11,
   "id": "1f2c9c2a-7911-415b-a5cd-1f2771814cc0",
   "metadata": {},
   "outputs": [
    {
     "name": "stdout",
     "output_type": "stream",
     "text": [
      "Xin chào!Nguyễn Văn A\n"
     ]
    }
   ],
   "source": [
    "#Thực hiện lệnh\n",
    "xinchao(\"Nguyễn Văn A\")"
   ]
  },
  {
   "cell_type": "code",
   "execution_count": 14,
   "id": "dd149d8d-4c02-4d13-a86d-04b10d4e8369",
   "metadata": {},
   "outputs": [],
   "source": [
    "#Một hàm nhận nhiều đối số khác nhau, mỗi đối số cách nhau bởi dấu phẩy\n",
    "def xinchao(ho, chulot, ten):\n",
    "    print(\"Xin chào: \" + ho + chulot + ten)\n",
    "    print(\"Xin chào: \" + ho)"
   ]
  },
  {
   "cell_type": "code",
   "execution_count": 15,
   "id": "c44096a3-20ec-4474-80e1-2812162bf4bf",
   "metadata": {},
   "outputs": [
    {
     "name": "stdout",
     "output_type": "stream",
     "text": [
      "Xin chào: NguyễnVănB\n",
      "Xin chào: Nguyễn\n"
     ]
    }
   ],
   "source": [
    "xinchao(\"Nguyễn\", \"Văn\", \"B\")"
   ]
  },
  {
   "cell_type": "code",
   "execution_count": 16,
   "id": "bcf4ea5c-70bb-432b-b36c-a1a39b8a3e50",
   "metadata": {},
   "outputs": [],
   "source": [
    "#Khi không xác định được số đối số, chúng ta có thể sử dụng dấu *\n",
    "def thoikhoabieu(*monhoc):\n",
    "    print(\"Môn 1: \" + monhoc[0])\n",
    "    print(\"Môn 2: \" + monhoc[1])"
   ]
  },
  {
   "cell_type": "code",
   "execution_count": 17,
   "id": "62b7f70b-3c27-459d-994b-7a8a0b573d8c",
   "metadata": {},
   "outputs": [
    {
     "name": "stdout",
     "output_type": "stream",
     "text": [
      "Môn 1: Toan\n",
      "Môn 2: Li\n"
     ]
    }
   ],
   "source": [
    "thoikhoabieu(\"Toan\", \"Li\", \"Hoa\", \"Van\")"
   ]
  },
  {
   "cell_type": "code",
   "execution_count": 19,
   "id": "8c9ca9c5-6277-42e3-b254-abf72a956f2b",
   "metadata": {},
   "outputs": [],
   "source": [
    "#hàm tính tổng\n",
    "def tinhtong(*giatri):\n",
    "    sum = 0\n",
    "    for x in giatri:\n",
    "        sum = sum + x\n",
    "    print(sum)"
   ]
  },
  {
   "cell_type": "code",
   "execution_count": 21,
   "id": "07a6ab25-6e78-4bfb-8e49-3f29c09f24aa",
   "metadata": {},
   "outputs": [
    {
     "name": "stdout",
     "output_type": "stream",
     "text": [
      "3\n",
      "34\n"
     ]
    }
   ],
   "source": [
    "#Thực hiện tính\n",
    "tinhtong(1, 2)\n",
    "tinhtong(1, 4, 7, 8, 9, 5)"
   ]
  },
  {
   "cell_type": "code",
   "execution_count": 22,
   "id": "4f83b68e-a20c-4dec-a5b5-ad22c8b555f4",
   "metadata": {},
   "outputs": [],
   "source": [
    "#Truyền nhiều đối số xác định thông qua tên, sử dụng **\n",
    "def xinchao(**ten):\n",
    "    print(\"Xin chào: \" + ten[\"ho\"])"
   ]
  },
  {
   "cell_type": "code",
   "execution_count": 23,
   "id": "3f1723d5-64db-4b00-9fca-a43a257a9153",
   "metadata": {},
   "outputs": [
    {
     "name": "stdout",
     "output_type": "stream",
     "text": [
      "Xin chào: Lê\n"
     ]
    }
   ],
   "source": [
    "xinchao(ten = \"A\", chulot = \"Văn\", ho = \"Lê\")"
   ]
  },
  {
   "cell_type": "code",
   "execution_count": 24,
   "id": "8ad2048a-1c0e-4c9b-8c5a-ed435545ad92",
   "metadata": {},
   "outputs": [],
   "source": [
    "#sử dụng từ khoá return để trả về giá trị\n",
    "def tinhtich(*giatri):\n",
    "    tich = 1\n",
    "    for x in giatri:\n",
    "        tich = tich * x\n",
    "    return tich"
   ]
  },
  {
   "cell_type": "code",
   "execution_count": 26,
   "id": "f98c704f-e9ab-48dd-b5ab-4184519dd30a",
   "metadata": {},
   "outputs": [
    {
     "name": "stdout",
     "output_type": "stream",
     "text": [
      "264\n"
     ]
    }
   ],
   "source": [
    "#Thực hiện tính\n",
    "tich1 = tinhtich(1, 4, 6)\n",
    "tich2 = tinhtich(5, 6, 8)\n",
    "tong = tich1 + tich2\n",
    "print(tong)"
   ]
  },
  {
   "cell_type": "markdown",
   "id": "8f12b8ea-f604-4890-8007-dc2081f7f7e0",
   "metadata": {},
   "source": [
    "LÀM BÀI TẬP\n",
    "1. Tìm USCLN của hai số a, b\n",
    "2. Xây dựng hàm: gcd(a,b) => trả về USCLN\n",
    "3. Ví dụ : 1, 13 => gcd(1, 13) => 1\n",
    "4. Ví dụ : 35, 77 => gcd(35, 77) => 7\n",
    "5. Thuật toán đơn:\n",
    "6. 35-77 = 35, 42 ; 35, 42-35=7 ; 35-7= 28, 7 ; 28-7= 21, 7 ; 21-7= 14, 7 ; 14-7= 7, 7"
   ]
  },
  {
   "cell_type": "code",
   "execution_count": 27,
   "id": "f54b37aa-08e6-4f5e-8f8f-dd3eda83e0a1",
   "metadata": {},
   "outputs": [],
   "source": [
    "def gcd(a, b):\n",
    "    while(a!=b):\n",
    "        if (a>b):\n",
    "            a = a - b\n",
    "        else:\n",
    "            b = b - a\n",
    "    return a"
   ]
  },
  {
   "cell_type": "code",
   "execution_count": 28,
   "id": "0554f883-1330-4abf-8140-617a9e60bc82",
   "metadata": {},
   "outputs": [
    {
     "name": "stdout",
     "output_type": "stream",
     "text": [
      "5\n",
      "11\n"
     ]
    }
   ],
   "source": [
    "print(gcd(55, 100))\n",
    "print(gcd(11, 121))"
   ]
  },
  {
   "cell_type": "markdown",
   "id": "851aac61-fa3a-4bd5-b5cd-a3f65ba83ca8",
   "metadata": {},
   "source": [
    "BÀI TẬP 2:\n",
    "1. Nhập vào một dãy (n) số từ bàn phím, sau đó tính tổng\n",
    "2. Yêu cầu:\n",
    "3. Xây dựng các hàm: nhập (n, list_number) & tinhtong(list_number)"
   ]
  },
  {
   "cell_type": "code",
   "execution_count": 32,
   "id": "70e6476c-31c9-4f24-845d-8fe01386de11",
   "metadata": {},
   "outputs": [
    {
     "name": "stdin",
     "output_type": "stream",
     "text": [
      "Nhập vào số lượng phần tử:  -1\n",
      "Nhập vào số lượng phần tử:  0\n",
      "Nhập vào số lượng phần tử:  5\n",
      "Nhập vào giá trị thứ 0: 1\n",
      "Nhập vào giá trị thứ 1: 2\n",
      "Nhập vào giá trị thứ 2: 3\n",
      "Nhập vào giá trị thứ 3: 4\n",
      "Nhập vào giá trị thứ 4: 5\n"
     ]
    },
    {
     "name": "stdout",
     "output_type": "stream",
     "text": [
      "Tong = 15\n"
     ]
    }
   ],
   "source": [
    "#Khai báo biến\n",
    "list_number = []\n",
    "n = 1\n",
    "\n",
    "#Nhập cho đến khi nào n>=1\n",
    "while(True):\n",
    "    try:\n",
    "        n = int(input(\"Nhập vào số lượng phần tử: \"))\n",
    "    except:\n",
    "        print(\"Vui lòng nhập n>=1\")\n",
    "    if (n>=1):\n",
    "        break\n",
    "        \n",
    "#Hàm nhập()\n",
    "def nhap(n, list_number):\n",
    "    for i in range(n):\n",
    "        list_number.append(int(input(\"Nhập vào giá trị thứ \" + str(i) + \":\")))\n",
    "\n",
    "#Hàm tính tổng:\n",
    "def tinhtong(list_number):\n",
    "    tong = 0\n",
    "    for x in list_number:\n",
    "        tong+=x\n",
    "    return tong\n",
    "\n",
    "nhap(n, list_number)\n",
    "print(\"Tong = \" + str(tinhtong(list_number)))"
   ]
  },
  {
   "cell_type": "markdown",
   "id": "f602777a-945b-4c8d-ad91-8c22e3ca3c38",
   "metadata": {},
   "source": [
    "LAMBDA FUNCTION trong PYTHON :\n",
    "1. Là mộ hàm ẩn danh nhỏ\n",
    "2. Một hàm Lambda có thể nhận bất kì số lương đối số nào, nhưng chỉ có thể có một biểu thức\n",
    "3. Cú pháp : lambda orguments : expression ~ <từ khoá> <đối số> : <trả về một giá trị> "
   ]
  },
  {
   "cell_type": "code",
   "execution_count": 34,
   "id": "a3da9f4c-bf61-4ef8-8c88-6c12ff003381",
   "metadata": {},
   "outputs": [
    {
     "name": "stdout",
     "output_type": "stream",
     "text": [
      "False\n",
      "True\n"
     ]
    }
   ],
   "source": [
    "#EX:\n",
    "kiemtrasochan = lambda a : (a%2==0)\n",
    "print(kiemtrasochan(5))\n",
    "print(kiemtrasochan(4))"
   ]
  },
  {
   "cell_type": "code",
   "execution_count": 35,
   "id": "7929a682-b717-4696-ab34-c4ff8fec9983",
   "metadata": {},
   "outputs": [
    {
     "name": "stdout",
     "output_type": "stream",
     "text": [
      "15\n",
      "-3\n"
     ]
    }
   ],
   "source": [
    "#Tính tổng\n",
    "tinhtong = lambda a,b : a+b\n",
    "print(tinhtong(5, 10))\n",
    "print(tinhtong(-5, 2))"
   ]
  },
  {
   "cell_type": "code",
   "execution_count": 36,
   "id": "2a8ce9ad-879a-4e66-a699-08739ee4cb7f",
   "metadata": {},
   "outputs": [
    {
     "name": "stdout",
     "output_type": "stream",
     "text": [
      "9\n",
      "27\n",
      "81\n"
     ]
    }
   ],
   "source": [
    "#Ví dụ về sử dụng lambda function bên trong function\n",
    "def hammuhai(a):\n",
    "    return a**2\n",
    "def hammuba(a):\n",
    "    return a**3\n",
    "    \n",
    "####\n",
    "\n",
    "def hammu(n):\n",
    "    return lambda x : x**n\n",
    "\n",
    "hammu2 = hammu(2)\n",
    "hammu3 = hammu(3)\n",
    "hammu4 = hammu(4)\n",
    "\n",
    "print(hammu2(3))\n",
    "print(hammu3(3))\n",
    "print(hammu4(3))"
   ]
  },
  {
   "cell_type": "code",
   "execution_count": null,
   "id": "913e4585-ccb2-4182-81ef-8a8320dc9e02",
   "metadata": {},
   "outputs": [],
   "source": []
  }
 ],
 "metadata": {
  "kernelspec": {
   "display_name": "Python 3 (ipykernel)",
   "language": "python",
   "name": "python3"
  },
  "language_info": {
   "codemirror_mode": {
    "name": "ipython",
    "version": 3
   },
   "file_extension": ".py",
   "mimetype": "text/x-python",
   "name": "python",
   "nbconvert_exporter": "python",
   "pygments_lexer": "ipython3",
   "version": "3.11.7"
  }
 },
 "nbformat": 4,
 "nbformat_minor": 5
}
